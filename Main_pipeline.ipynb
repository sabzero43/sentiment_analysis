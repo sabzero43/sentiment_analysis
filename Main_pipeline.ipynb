{
 "cells": [
  {
   "cell_type": "code",
   "execution_count": null,
   "metadata": {
    "colab": {
     "base_uri": "https://localhost:8080/",
     "height": 122
    },
    "colab_type": "code",
    "id": "uq678lyocFeP",
    "outputId": "2957488a-5d45-4114-df87-726881f0cf19"
   },
   "outputs": [
    {
     "name": "stdout",
     "output_type": "stream",
     "text": [
      "Go to this URL in a browser: https://accounts.google.com/o/oauth2/auth?client_id=947318989803-6bn6qk8qdgf4n4g3pfee6491hc0brc4i.apps.googleusercontent.com&redirect_uri=urn%3aietf%3awg%3aoauth%3a2.0%3aoob&response_type=code&scope=email%20https%3a%2f%2fwww.googleapis.com%2fauth%2fdocs.test%20https%3a%2f%2fwww.googleapis.com%2fauth%2fdrive%20https%3a%2f%2fwww.googleapis.com%2fauth%2fdrive.photos.readonly%20https%3a%2f%2fwww.googleapis.com%2fauth%2fpeopleapi.readonly\n",
      "\n",
      "Enter your authorization code:\n",
      "··········\n",
      "Mounted at /content/drive\n"
     ]
    }
   ],
   "source": [
    "from google.colab import drive\n",
    "drive.mount('/content/drive')"
   ]
  },
  {
   "cell_type": "markdown",
   "metadata": {
    "colab_type": "text",
    "id": "RY1J8M7YKYuP"
   },
   "source": [
    "# Download required libraries and dependencies"
   ]
  },
  {
   "cell_type": "code",
   "execution_count": null,
   "metadata": {
    "colab": {},
    "colab_type": "code",
    "id": "mgJFg5dLKVdJ"
   },
   "outputs": [],
   "source": [
    "!pip install pytorch_transformers\n",
    "!pip install transformers \n",
    "\n",
    "from Model import Model\n",
    "\n",
    "import torch\n",
    "from torch.utils.data import TensorDataset, DataLoader, RandomSampler, SequentialSampler\n",
    "from keras.preprocessing.sequence import pad_sequences\n",
    "from sklearn.model_selection import train_test_split\n",
    "from pytorch_transformers import BertTokenizer, BertConfig\n",
    "from pytorch_transformers import AdamW, BertForSequenceClassification\n",
    "from torch.optim import SGD, Adam\n",
    "from transformers import get_linear_schedule_with_warmup\n",
    "import pandas as pd\n",
    "import random\n",
    "import re\n",
    "import string\n",
    "import numpy as np\n",
    "from sklearn.metrics import accuracy_score, precision_score, recall_score, f1_score\n",
    "import matplotlib.pyplot as plt\n",
    "import seaborn as sns\n",
    "\n",
    "from IPython.display import clear_output            #remove all unnecessary conclusions. If there are mistakes, then everything will stop earlier\n",
    "clear_output()\n",
    "\n",
    "import warnings\n",
    "warnings.filterwarnings(\"ignore\")\n",
    "\n",
    "SEED = 42"
   ]
  },
  {
   "cell_type": "markdown",
   "metadata": {
    "colab_type": "text",
    "id": "ITeZLjciLkKD"
   },
   "source": [
    "# Load prepared data and work with it"
   ]
  },
  {
   "cell_type": "code",
   "execution_count": null,
   "metadata": {
    "colab": {
     "base_uri": "https://localhost:8080/",
     "height": 419
    },
    "colab_type": "code",
    "id": "yU-g3uNFK8MG",
    "outputId": "a657bee2-73e7-4059-81bd-d089252777ca"
   },
   "outputs": [
    {
     "data": {
      "text/html": [
       "<div>\n",
       "<style scoped>\n",
       "    .dataframe tbody tr th:only-of-type {\n",
       "        vertical-align: middle;\n",
       "    }\n",
       "\n",
       "    .dataframe tbody tr th {\n",
       "        vertical-align: top;\n",
       "    }\n",
       "\n",
       "    .dataframe thead th {\n",
       "        text-align: right;\n",
       "    }\n",
       "</style>\n",
       "<table border=\"1\" class=\"dataframe\">\n",
       "  <thead>\n",
       "    <tr style=\"text-align: right;\">\n",
       "      <th></th>\n",
       "      <th>overall</th>\n",
       "      <th>verified</th>\n",
       "      <th>reviewTime</th>\n",
       "      <th>reviewerID</th>\n",
       "      <th>asin</th>\n",
       "      <th>reviewerName</th>\n",
       "      <th>reviewText</th>\n",
       "      <th>summary</th>\n",
       "      <th>unixReviewTime</th>\n",
       "      <th>vote</th>\n",
       "      <th>style</th>\n",
       "      <th>image</th>\n",
       "    </tr>\n",
       "  </thead>\n",
       "  <tbody>\n",
       "    <tr>\n",
       "      <th>0</th>\n",
       "      <td>5.0</td>\n",
       "      <td>True</td>\n",
       "      <td>10 20, 2014</td>\n",
       "      <td>A1D4G1SNUZWQOT</td>\n",
       "      <td>7106116521</td>\n",
       "      <td>Tracy</td>\n",
       "      <td>Exactly what I needed.</td>\n",
       "      <td>perfect replacements!!</td>\n",
       "      <td>1413763200</td>\n",
       "      <td>NaN</td>\n",
       "      <td>NaN</td>\n",
       "      <td>NaN</td>\n",
       "    </tr>\n",
       "    <tr>\n",
       "      <th>1</th>\n",
       "      <td>2.0</td>\n",
       "      <td>True</td>\n",
       "      <td>09 28, 2014</td>\n",
       "      <td>A3DDWDH9PX2YX2</td>\n",
       "      <td>7106116521</td>\n",
       "      <td>Sonja Lau</td>\n",
       "      <td>I agree with the other review, the opening is ...</td>\n",
       "      <td>I agree with the other review, the opening is ...</td>\n",
       "      <td>1411862400</td>\n",
       "      <td>3.0</td>\n",
       "      <td>NaN</td>\n",
       "      <td>NaN</td>\n",
       "    </tr>\n",
       "    <tr>\n",
       "      <th>2</th>\n",
       "      <td>4.0</td>\n",
       "      <td>False</td>\n",
       "      <td>08 25, 2014</td>\n",
       "      <td>A2MWC41EW7XL15</td>\n",
       "      <td>7106116521</td>\n",
       "      <td>Kathleen</td>\n",
       "      <td>Love these... I am going to order another pack...</td>\n",
       "      <td>My New 'Friends' !!</td>\n",
       "      <td>1408924800</td>\n",
       "      <td>NaN</td>\n",
       "      <td>NaN</td>\n",
       "      <td>NaN</td>\n",
       "    </tr>\n",
       "    <tr>\n",
       "      <th>3</th>\n",
       "      <td>2.0</td>\n",
       "      <td>True</td>\n",
       "      <td>08 24, 2014</td>\n",
       "      <td>A2UH2QQ275NV45</td>\n",
       "      <td>7106116521</td>\n",
       "      <td>Jodi Stoner</td>\n",
       "      <td>too tiny an opening</td>\n",
       "      <td>Two Stars</td>\n",
       "      <td>1408838400</td>\n",
       "      <td>NaN</td>\n",
       "      <td>NaN</td>\n",
       "      <td>NaN</td>\n",
       "    </tr>\n",
       "    <tr>\n",
       "      <th>4</th>\n",
       "      <td>3.0</td>\n",
       "      <td>False</td>\n",
       "      <td>07 27, 2014</td>\n",
       "      <td>A89F3LQADZBS5</td>\n",
       "      <td>7106116521</td>\n",
       "      <td>Alexander D.</td>\n",
       "      <td>Okay</td>\n",
       "      <td>Three Stars</td>\n",
       "      <td>1406419200</td>\n",
       "      <td>NaN</td>\n",
       "      <td>NaN</td>\n",
       "      <td>NaN</td>\n",
       "    </tr>\n",
       "    <tr>\n",
       "      <th>...</th>\n",
       "      <td>...</td>\n",
       "      <td>...</td>\n",
       "      <td>...</td>\n",
       "      <td>...</td>\n",
       "      <td>...</td>\n",
       "      <td>...</td>\n",
       "      <td>...</td>\n",
       "      <td>...</td>\n",
       "      <td>...</td>\n",
       "      <td>...</td>\n",
       "      <td>...</td>\n",
       "      <td>...</td>\n",
       "    </tr>\n",
       "    <tr>\n",
       "      <th>883631</th>\n",
       "      <td>5.0</td>\n",
       "      <td>True</td>\n",
       "      <td>02 21, 2017</td>\n",
       "      <td>A1ZSB2Q144UTEY</td>\n",
       "      <td>B01HJHTH5U</td>\n",
       "      <td>Amazon Customer</td>\n",
       "      <td>I absolutely love this dress!!  It's sexy and ...</td>\n",
       "      <td>I absolutely love this dress</td>\n",
       "      <td>1487635200</td>\n",
       "      <td>NaN</td>\n",
       "      <td>NaN</td>\n",
       "      <td>NaN</td>\n",
       "    </tr>\n",
       "    <tr>\n",
       "      <th>883632</th>\n",
       "      <td>5.0</td>\n",
       "      <td>True</td>\n",
       "      <td>11 25, 2016</td>\n",
       "      <td>A2CCDV0J5VB6F2</td>\n",
       "      <td>B01HJHTH5U</td>\n",
       "      <td>Amazon Customer</td>\n",
       "      <td>I'm 5'6 175lbs. I'm on the tall side. I wear a...</td>\n",
       "      <td>I wear a large and ordered a large and it stil...</td>\n",
       "      <td>1480032000</td>\n",
       "      <td>2.0</td>\n",
       "      <td>NaN</td>\n",
       "      <td>NaN</td>\n",
       "    </tr>\n",
       "    <tr>\n",
       "      <th>883633</th>\n",
       "      <td>3.0</td>\n",
       "      <td>True</td>\n",
       "      <td>11 10, 2016</td>\n",
       "      <td>A3O90PACS7B61K</td>\n",
       "      <td>B01HJHTH5U</td>\n",
       "      <td>Fabfifty</td>\n",
       "      <td>Too big in the chest area!</td>\n",
       "      <td>Three Stars</td>\n",
       "      <td>1478736000</td>\n",
       "      <td>NaN</td>\n",
       "      <td>NaN</td>\n",
       "      <td>NaN</td>\n",
       "    </tr>\n",
       "    <tr>\n",
       "      <th>883634</th>\n",
       "      <td>3.0</td>\n",
       "      <td>True</td>\n",
       "      <td>11 10, 2016</td>\n",
       "      <td>A2HO94I89U3LNH</td>\n",
       "      <td>B01HJHF97K</td>\n",
       "      <td>Mgomez</td>\n",
       "      <td>Too clear in the back, needs lining</td>\n",
       "      <td>Three Stars</td>\n",
       "      <td>1478736000</td>\n",
       "      <td>NaN</td>\n",
       "      <td>NaN</td>\n",
       "      <td>NaN</td>\n",
       "    </tr>\n",
       "    <tr>\n",
       "      <th>883635</th>\n",
       "      <td>5.0</td>\n",
       "      <td>True</td>\n",
       "      <td>08 9, 2016</td>\n",
       "      <td>A2RSX9E79DUHRX</td>\n",
       "      <td>B01HJG5NMW</td>\n",
       "      <td>Natasha Mascarenhas</td>\n",
       "      <td>Ordered and was slightly small. Worked with th...</td>\n",
       "      <td>The quality is excellent and it is so cute</td>\n",
       "      <td>1470700800</td>\n",
       "      <td>NaN</td>\n",
       "      <td>NaN</td>\n",
       "      <td>NaN</td>\n",
       "    </tr>\n",
       "  </tbody>\n",
       "</table>\n",
       "<p>883636 rows × 12 columns</p>\n",
       "</div>"
      ],
      "text/plain": [
       "        overall  verified   reviewTime  ... vote style image\n",
       "0           5.0      True  10 20, 2014  ...  NaN   NaN   NaN\n",
       "1           2.0      True  09 28, 2014  ...  3.0   NaN   NaN\n",
       "2           4.0     False  08 25, 2014  ...  NaN   NaN   NaN\n",
       "3           2.0      True  08 24, 2014  ...  NaN   NaN   NaN\n",
       "4           3.0     False  07 27, 2014  ...  NaN   NaN   NaN\n",
       "...         ...       ...          ...  ...  ...   ...   ...\n",
       "883631      5.0      True  02 21, 2017  ...  NaN   NaN   NaN\n",
       "883632      5.0      True  11 25, 2016  ...  2.0   NaN   NaN\n",
       "883633      3.0      True  11 10, 2016  ...  NaN   NaN   NaN\n",
       "883634      3.0      True  11 10, 2016  ...  NaN   NaN   NaN\n",
       "883635      5.0      True   08 9, 2016  ...  NaN   NaN   NaN\n",
       "\n",
       "[883636 rows x 12 columns]"
      ]
     },
     "execution_count": 3,
     "metadata": {
      "tags": []
     },
     "output_type": "execute_result"
    }
   ],
   "source": [
    "df = pd.read_csv('/content/drive/My Drive/Dataset/AMAZON_FASHION.csv')\n",
    "df"
   ]
  },
  {
   "cell_type": "markdown",
   "metadata": {
    "colab_type": "text",
    "id": "vt-VeXsn9T0e"
   },
   "source": [
    "Convert <code>overall</code> to <code>sentiment</code> for classification"
   ]
  },
  {
   "cell_type": "code",
   "execution_count": null,
   "metadata": {
    "colab": {
     "base_uri": "https://localhost:8080/",
     "height": 419
    },
    "colab_type": "code",
    "id": "oEJs5xEZ5C8T",
    "outputId": "925fe106-8279-4f60-c56e-a5872f758e33"
   },
   "outputs": [
    {
     "data": {
      "text/html": [
       "<div>\n",
       "<style scoped>\n",
       "    .dataframe tbody tr th:only-of-type {\n",
       "        vertical-align: middle;\n",
       "    }\n",
       "\n",
       "    .dataframe tbody tr th {\n",
       "        vertical-align: top;\n",
       "    }\n",
       "\n",
       "    .dataframe thead th {\n",
       "        text-align: right;\n",
       "    }\n",
       "</style>\n",
       "<table border=\"1\" class=\"dataframe\">\n",
       "  <thead>\n",
       "    <tr style=\"text-align: right;\">\n",
       "      <th></th>\n",
       "      <th>overall</th>\n",
       "      <th>reviewText</th>\n",
       "      <th>summary</th>\n",
       "      <th>sentiment</th>\n",
       "    </tr>\n",
       "  </thead>\n",
       "  <tbody>\n",
       "    <tr>\n",
       "      <th>0</th>\n",
       "      <td>5.0</td>\n",
       "      <td>Exactly what I needed.</td>\n",
       "      <td>perfect replacements!!</td>\n",
       "      <td>1</td>\n",
       "    </tr>\n",
       "    <tr>\n",
       "      <th>1</th>\n",
       "      <td>2.0</td>\n",
       "      <td>I agree with the other review, the opening is ...</td>\n",
       "      <td>I agree with the other review, the opening is ...</td>\n",
       "      <td>0</td>\n",
       "    </tr>\n",
       "    <tr>\n",
       "      <th>2</th>\n",
       "      <td>4.0</td>\n",
       "      <td>Love these... I am going to order another pack...</td>\n",
       "      <td>My New 'Friends' !!</td>\n",
       "      <td>1</td>\n",
       "    </tr>\n",
       "    <tr>\n",
       "      <th>3</th>\n",
       "      <td>2.0</td>\n",
       "      <td>too tiny an opening</td>\n",
       "      <td>Two Stars</td>\n",
       "      <td>0</td>\n",
       "    </tr>\n",
       "    <tr>\n",
       "      <th>4</th>\n",
       "      <td>3.0</td>\n",
       "      <td>Okay</td>\n",
       "      <td>Three Stars</td>\n",
       "      <td>0</td>\n",
       "    </tr>\n",
       "    <tr>\n",
       "      <th>...</th>\n",
       "      <td>...</td>\n",
       "      <td>...</td>\n",
       "      <td>...</td>\n",
       "      <td>...</td>\n",
       "    </tr>\n",
       "    <tr>\n",
       "      <th>883631</th>\n",
       "      <td>5.0</td>\n",
       "      <td>I absolutely love this dress!!  It's sexy and ...</td>\n",
       "      <td>I absolutely love this dress</td>\n",
       "      <td>1</td>\n",
       "    </tr>\n",
       "    <tr>\n",
       "      <th>883632</th>\n",
       "      <td>5.0</td>\n",
       "      <td>I'm 5'6 175lbs. I'm on the tall side. I wear a...</td>\n",
       "      <td>I wear a large and ordered a large and it stil...</td>\n",
       "      <td>1</td>\n",
       "    </tr>\n",
       "    <tr>\n",
       "      <th>883633</th>\n",
       "      <td>3.0</td>\n",
       "      <td>Too big in the chest area!</td>\n",
       "      <td>Three Stars</td>\n",
       "      <td>0</td>\n",
       "    </tr>\n",
       "    <tr>\n",
       "      <th>883634</th>\n",
       "      <td>3.0</td>\n",
       "      <td>Too clear in the back, needs lining</td>\n",
       "      <td>Three Stars</td>\n",
       "      <td>0</td>\n",
       "    </tr>\n",
       "    <tr>\n",
       "      <th>883635</th>\n",
       "      <td>5.0</td>\n",
       "      <td>Ordered and was slightly small. Worked with th...</td>\n",
       "      <td>The quality is excellent and it is so cute</td>\n",
       "      <td>1</td>\n",
       "    </tr>\n",
       "  </tbody>\n",
       "</table>\n",
       "<p>883636 rows × 4 columns</p>\n",
       "</div>"
      ],
      "text/plain": [
       "        overall  ... sentiment\n",
       "0           5.0  ...         1\n",
       "1           2.0  ...         0\n",
       "2           4.0  ...         1\n",
       "3           2.0  ...         0\n",
       "4           3.0  ...         0\n",
       "...         ...  ...       ...\n",
       "883631      5.0  ...         1\n",
       "883632      5.0  ...         1\n",
       "883633      3.0  ...         0\n",
       "883634      3.0  ...         0\n",
       "883635      5.0  ...         1\n",
       "\n",
       "[883636 rows x 4 columns]"
      ]
     },
     "execution_count": 4,
     "metadata": {
      "tags": []
     },
     "output_type": "execute_result"
    }
   ],
   "source": [
    "data = df[['overall', 'reviewText', 'summary']]\n",
    "data['sentiment'] = data.overall.map(lambda x: 1 if x > 3 else 0)\n",
    "data"
   ]
  },
  {
   "cell_type": "markdown",
   "metadata": {
    "colab_type": "text",
    "id": "Rr63ppt6Ok8T"
   },
   "source": [
    "Display the distribution of our data"
   ]
  },
  {
   "cell_type": "code",
   "execution_count": null,
   "metadata": {
    "colab": {
     "base_uri": "https://localhost:8080/",
     "height": 320
    },
    "colab_type": "code",
    "id": "v6RZDVVAMa2p",
    "outputId": "eec483af-472a-4ccb-c7f1-738cfcc45697"
   },
   "outputs": [
    {
     "data": {
      "image/png": "[encoded data removed]",
      "text/plain": [
       "<Figure size 1190x280 with 2 Axes>"
      ]
     },
     "metadata": {
      "needs_background": "light",
      "tags": []
     },
     "output_type": "display_data"
    }
   ],
   "source": [
    "def plot_label_distribution(data):\n",
    "    percentage = data.groupby('sentiment').size() / len(data) * 100\n",
    "    amount = data.groupby('sentiment').size()\n",
    "\n",
    "    fig, axes = plt.subplots(ncols=2, figsize=(17, 4), dpi=70)\n",
    "    plt.tight_layout()\n",
    "\n",
    "    data.groupby('sentiment').count()['reviewText'].plot(kind='pie', ax=axes[0], labels=['1 Positive ({0:.2f}%)'.format(percentage[1]), '0 Negative ({0:.2f}%)'.format(percentage[0])])\n",
    "    sns.countplot(x=data['sentiment'], hue=data['sentiment'], ax=axes[1])\n",
    "\n",
    "    axes[0].set_ylabel('')\n",
    "    axes[1].set_ylabel('')\n",
    "    axes[1].set_xticklabels(['1 Positive ({})'.format(amount[1]), '0 Negative ({})'.format(amount[0])])\n",
    "    axes[0].tick_params(axis='x', labelsize=15)\n",
    "    axes[0].tick_params(axis='y', labelsize=15)\n",
    "    axes[1].tick_params(axis='x', labelsize=15)\n",
    "    axes[1].tick_params(axis='y', labelsize=15)\n",
    "\n",
    "    axes[0].set_title('Target Distribution in Training Set', fontsize=13)\n",
    "    axes[1].set_title('Target Count in Training Set', fontsize=13)\n",
    "\n",
    "    plt.show()\n",
    "\n",
    "plot_label_distribution(data)"
   ]
  },
  {
   "cell_type": "markdown",
   "metadata": {
    "colab_type": "text",
    "id": "S9OLZ4NXBwp_"
   },
   "source": [
    "Remove lines with bad <code>summary</code>"
   ]
  },
  {
   "cell_type": "code",
   "execution_count": null,
   "metadata": {
    "colab": {},
    "colab_type": "code",
    "id": "fTmUweKGCHuf"
   },
   "outputs": [],
   "source": [
    "data = data.dropna()\n",
    "data.summary = data.summary.map(lambda x: x.lower())\n",
    "data = data[~data['summary'].str.contains(\"star\")]\n",
    "data = data[data.reviewText.map(lambda x: len(x) < 512)]\n",
    "\n",
    "# !!!!!!!!!!!!!!!!!!!!!!!!!!!!!!!!!!!!!!!!!!!!!!!!!!!!\n",
    "data = data.sample(5000)"
   ]
  },
  {
   "cell_type": "code",
   "execution_count": null,
   "metadata": {
    "colab": {
     "base_uri": "https://localhost:8080/",
     "height": 320
    },
    "colab_type": "code",
    "id": "sX-zV2_9OycK",
    "outputId": "701de9ad-d90e-4ecb-fbb0-247bda237bfb"
   },
   "outputs": [
    {
     "data": {
      "image/png": "[encoded data removed]",
      "text/plain": [
       "<Figure size 1190x280 with 2 Axes>"
      ]
     },
     "metadata": {
      "needs_background": "light",
      "tags": []
     },
     "output_type": "display_data"
    }
   ],
   "source": [
    "plot_label_distribution(data)"
   ]
  },
  {
   "cell_type": "code",
   "execution_count": null,
   "metadata": {
    "colab": {},
    "colab_type": "code",
    "id": "tJoeWZJxuwB5"
   },
   "outputs": [],
   "source": [
    "for i in range(10):\n",
    "    try:\n",
    "        print('text: ', data.reviewText[i])\n",
    "        print('review: ', data.summary[i])\n",
    "        print('------------------')\n",
    "    except:\n",
    "        pass"
   ]
  },
  {
   "cell_type": "markdown",
   "metadata": {
    "colab_type": "text",
    "id": "zYGchTxVO2jL"
   },
   "source": [
    "Распределение осталось тем же"
   ]
  },
  {
   "cell_type": "markdown",
   "metadata": {
    "colab_type": "text",
    "id": "j26fKXT1dWLb"
   },
   "source": [
    "## Data processing"
   ]
  },
  {
   "cell_type": "code",
   "execution_count": null,
   "metadata": {
    "colab": {},
    "colab_type": "code",
    "id": "nncIShilekiD"
   },
   "outputs": [],
   "source": [
    "sentences = data.reviewText\n",
    "\n",
    "sentences = [\"[CLS] \" + sentence + \" [SEP]\" for sentence in sentences]  \n",
    "labels = []\n",
    "\n",
    "for item in data['sentiment']:\n",
    "  labels.append([item])"
   ]
  },
  {
   "cell_type": "code",
   "execution_count": null,
   "metadata": {
    "colab": {
     "base_uri": "https://localhost:8080/",
     "height": 717
    },
    "colab_type": "code",
    "id": "NYhgcm6ly4nX",
    "outputId": "9921c277-7241-42cd-8aa5-6090ba6a1dc1"
   },
   "outputs": [
    {
     "name": "stdout",
     "output_type": "stream",
     "text": [
      "This umbrella is adorable, easy to operate, and seems relatively safe with no sharp corners or edges. When it arrived, it had some fine white powder on it, which was easily wiped away with a damp cloth. It arrives in a large brown amazon box...it does not have its own brand/packaging.\n",
      "[CLS] This umbrella is adorable, easy to operate, and seems relatively safe with no sharp corners or edges. When it arrived, it had some fine white powder on it, which was easily wiped away with a damp cloth. It arrives in a large brown amazon box...it does not have its own brand/packaging. [SEP]\n",
      "[1]\n",
      "\n",
      "It is just adorable. Very nice. The material has a rich look.  It has scripture references on each corner. And comes with a carrying bag. I love it.\n",
      "[CLS] It is just adorable. Very nice. The material has a rich look.  It has scripture references on each corner. And comes with a carrying bag. I love it. [SEP]\n",
      "[1]\n",
      "\n",
      "Three of the pairs we received were briefs, as advertised, but the other three were hipsters. I decided to keep them anyway as they are very soft and don't dig in at the waist or legs, however, I'm sure my little one is going to outgrow the hipsters a lot sooner than the briefs.\n",
      "[CLS] Three of the pairs we received were briefs, as advertised, but the other three were hipsters. I decided to keep them anyway as they are very soft and don't dig in at the waist or legs, however, I'm sure my little one is going to outgrow the hipsters a lot sooner than the briefs. [SEP]\n",
      "[1]\n",
      "\n",
      "I'm 5'6, weigh 125lbs, 32C cup size with a 26\" waist. This fits slightly large (it's a bit too wide), but it's still flattering. Nice and comfortable fabric, the print isn't hi def or anything but looks good from a distance. There is no support or padding for the boobs, so be careful if you're blessed in that department. I really like the cut and style of this, just wish it were smaller.\n",
      "[CLS] I'm 5'6, weigh 125lbs, 32C cup size with a 26\" waist. This fits slightly large (it's a bit too wide), but it's still flattering. Nice and comfortable fabric, the print isn't hi def or anything but looks good from a distance. There is no support or padding for the boobs, so be careful if you're blessed in that department. I really like the cut and style of this, just wish it were smaller. [SEP]\n",
      "[1]\n",
      "\n",
      "Very pleased with this item.  Good size, color, and weight. Its a keeper. Have a couple of outfits I can use it. Thanks\n",
      "[CLS] Very pleased with this item.  Good size, color, and weight. Its a keeper. Have a couple of outfits I can use it. Thanks [SEP]\n",
      "[1]\n",
      "\n",
      "I'm a size 24 so it is hard to find things that fit good. but this fit perfectly and arrived in time.\n",
      "[CLS] I'm a size 24 so it is hard to find things that fit good. but this fit perfectly and arrived in time. [SEP]\n",
      "[1]\n",
      "\n",
      "its appearance and construction. I would have liked one with more pockets.\n",
      "[CLS] its appearance and construction. I would have liked one with more pockets. [SEP]\n",
      "[1]\n",
      "\n",
      "This was a present from my wife.  The arms are way long.  I will get to a tailor and get it fixed.\n",
      "[CLS] This was a present from my wife.  The arms are way long.  I will get to a tailor and get it fixed. [SEP]\n",
      "[0]\n",
      "\n",
      "Tank was really small, skirting was ok but sizing was off from each piece. Did not make sense. We did alter, and add to, to make it work.\n",
      "[CLS] Tank was really small, skirting was ok but sizing was off from each piece. Did not make sense. We did alter, and add to, to make it work. [SEP]\n",
      "[0]\n",
      "\n",
      "Ordered a pair of 32/34 pants and the waist was no where near a 32, more like a 26..\n",
      "[CLS] Ordered a pair of 32/34 pants and the waist was no where near a 32, more like a 26.. [SEP]\n",
      "[0]\n",
      "\n"
     ]
    }
   ],
   "source": [
    "for i in range(10):\n",
    "    key = random.randint(0, 1000)\n",
    "    print(data.reviewText.iloc[key])\n",
    "    print(sentences[key])\n",
    "    print(labels[key])\n",
    "    print('')"
   ]
  },
  {
   "cell_type": "markdown",
   "metadata": {
    "colab_type": "text",
    "id": "E3yYAm2MN_vO"
   },
   "source": [
    "Make train test split"
   ]
  },
  {
   "cell_type": "code",
   "execution_count": null,
   "metadata": {
    "colab": {},
    "colab_type": "code",
    "id": "IgHo2RdIzP1J"
   },
   "outputs": [],
   "source": [
    "from sklearn.model_selection import train_test_split\n",
    "\n",
    "train_sentences, test_sentences, train_gt, test_gt = train_test_split(sentences, labels, test_size=0.5, random_state=SEED, stratify=data['sentiment'])"
   ]
  },
  {
   "cell_type": "markdown",
   "metadata": {
    "colab_type": "text",
    "id": "EWRW6gJoQZOz"
   },
   "source": [
    "Download tokenizer"
   ]
  },
  {
   "cell_type": "code",
   "execution_count": null,
   "metadata": {
    "colab": {
     "base_uri": "https://localhost:8080/",
     "height": 34
    },
    "colab_type": "code",
    "id": "Fjnk6Ko0QGij",
    "outputId": "16ce1488-d6c2-4f56-8f09-76a61c27bab4"
   },
   "outputs": [
    {
     "name": "stderr",
     "output_type": "stream",
     "text": [
      "100%|██████████| 231508/231508 [00:00<00:00, 317050.16B/s]\n"
     ]
    }
   ],
   "source": [
    "tokenizer = BertTokenizer.from_pretrained(\"bert-base-uncased\") \n",
    "tokenized_texts = [tokenizer.tokenize(sent) for sent in train_sentences]"
   ]
  },
  {
   "cell_type": "code",
   "execution_count": null,
   "metadata": {
    "colab": {
     "base_uri": "https://localhost:8080/",
     "height": 85
    },
    "colab_type": "code",
    "id": "URScu4QeOVpp",
    "outputId": "782b417b-3ab6-4fd0-d815-4a895f596606"
   },
   "outputs": [
    {
     "name": "stdout",
     "output_type": "stream",
     "text": [
      "[CLS] Beautiful bracelet! Swarovski never disappoints! [SEP] \n",
      "\n",
      "['[CLS]', 'beautiful', 'bracelet', '!', 'sw', '##aro', '##vs', '##ki', 'never', 'di', '##sa', '##pp', '##oint', '##s', '!', '[SEP]']\n",
      "[0]\n"
     ]
    }
   ],
   "source": [
    "print (train_sentences[1], '\\n')\n",
    "print (tokenized_texts[1])\n",
    "print (labels[1])"
   ]
  },
  {
   "cell_type": "markdown",
   "metadata": {
    "colab_type": "text",
    "id": "kQuqs29CSAQC"
   },
   "source": [
    "Split our sample into training and validation"
   ]
  },
  {
   "cell_type": "code",
   "execution_count": null,
   "metadata": {
    "colab": {
     "base_uri": "https://localhost:8080/",
     "height": 34
    },
    "colab_type": "code",
    "id": "65gjps2_OZhc",
    "outputId": "44bea4b3-9ece-44c2-e05a-6574f59cb069"
   },
   "outputs": [
    {
     "name": "stdout",
     "output_type": "stream",
     "text": [
      "195\n"
     ]
    }
   ],
   "source": [
    "maxlen = pd.Series(tokenized_texts).map(lambda x: len(x)).quantile(1)\n",
    "maxlen = int(maxlen)\n",
    "print(maxlen)"
   ]
  },
  {
   "cell_type": "code",
   "execution_count": null,
   "metadata": {
    "colab": {},
    "colab_type": "code",
    "id": "Pz3bRm0dQtSa"
   },
   "outputs": [],
   "source": [
    "input_ids = [tokenizer.convert_tokens_to_ids(x) for x in tokenized_texts]\n",
    "input_ids = pad_sequences(\n",
    "    input_ids,                              #tokens\n",
    "    maxlen= maxlen,                         #max tokens\n",
    "    dtype=\"long\",\n",
    "    truncating=\"post\",                      #cut after\n",
    "    padding=\"post\"                          #padding right\n",
    ")\n",
    "attention_masks = [[float(i>0) for i in seq] for seq in input_ids]"
   ]
  },
  {
   "cell_type": "code",
   "execution_count": null,
   "metadata": {
    "colab": {},
    "colab_type": "code",
    "id": "8pw27ytcOyhm"
   },
   "outputs": [],
   "source": [
    "train_inputs, validation_inputs, train_labels, validation_labels = train_test_split(\n",
    "    input_ids, train_gt, \n",
    "    random_state=SEED,\n",
    "    test_size=0.2,\n",
    ")\n",
    "\n",
    "train_masks, validation_masks, _, _ = train_test_split(\n",
    "    attention_masks,\n",
    "    input_ids,\n",
    "    random_state=SEED,\n",
    "    test_size=0.2,\n",
    ")\n"
   ]
  },
  {
   "cell_type": "markdown",
   "metadata": {
    "colab_type": "text",
    "id": "I1gk8rpJSoEC"
   },
   "source": [
    "Convert our data to batches"
   ]
  },
  {
   "cell_type": "code",
   "execution_count": null,
   "metadata": {
    "colab": {},
    "colab_type": "code",
    "id": "4X4owcFhS6o1"
   },
   "outputs": [],
   "source": [
    "train_inputs = torch.LongTensor(train_inputs)\n",
    "train_labels = torch.LongTensor(train_labels)\n",
    "train_masks = torch.LongTensor(train_masks)\n",
    "\n",
    "validation_inputs = torch.LongTensor(validation_inputs)\n",
    "validation_labels = torch.LongTensor(validation_labels)\n",
    "validation_masks = torch.LongTensor(validation_masks)\n",
    "\n",
    "train_data = TensorDataset(train_inputs, train_masks, train_labels)\n",
    "train_dataloader = DataLoader(\n",
    "    train_data,\n",
    "    shuffle=True,\n",
    "    batch_size=25\n",
    ")\n",
    "\n",
    "validation_data = TensorDataset(validation_inputs, validation_masks, validation_labels)\n",
    "validation_dataloader = DataLoader(\n",
    "    validation_data,\n",
    "    shuffle=True,\n",
    "    batch_size=25\n",
    ")"
   ]
  },
  {
   "cell_type": "markdown",
   "metadata": {
    "colab_type": "text",
    "id": "_CJmeDP6TXH2"
   },
   "source": [
    "Download the pretrained model"
   ]
  },
  {
   "cell_type": "code",
   "execution_count": null,
   "metadata": {
    "colab": {},
    "colab_type": "code",
    "id": "NZdypqyiTQ_W"
   },
   "outputs": [],
   "source": [
    "# model = BertForSequenceClassification.from_pretrained(\"bert-base-multilingual-cased\", num_labels=2)\n",
    "\n",
    "model = torch.load('/content/drive/My Drive/Dataset/model_1.pth')"
   ]
  },
  {
   "cell_type": "code",
   "execution_count": null,
   "metadata": {
    "colab": {
     "base_uri": "https://localhost:8080/",
     "height": 1000
    },
    "colab_type": "code",
    "id": "Yud7CANNsLK6",
    "outputId": "cc60d6e0-a22c-4cd1-be70-ab314cafabf3"
   },
   "outputs": [
    {
     "data": {
      "text/plain": [
       "BertForSequenceClassification(\n",
       "  (bert): BertModel(\n",
       "    (embeddings): BertEmbeddings(\n",
       "      (word_embeddings): Embedding(119547, 768, padding_idx=0)\n",
       "      (position_embeddings): Embedding(512, 768)\n",
       "      (token_type_embeddings): Embedding(2, 768)\n",
       "      (LayerNorm): LayerNorm((768,), eps=1e-12, elementwise_affine=True)\n",
       "      (dropout): Dropout(p=0.1, inplace=False)\n",
       "    )\n",
       "    (encoder): BertEncoder(\n",
       "      (layer): ModuleList(\n",
       "        (0): BertLayer(\n",
       "          (attention): BertAttention(\n",
       "            (self): BertSelfAttention(\n",
       "              (query): Linear(in_features=768, out_features=768, bias=True)\n",
       "              (key): Linear(in_features=768, out_features=768, bias=True)\n",
       "              (value): Linear(in_features=768, out_features=768, bias=True)\n",
       "              (dropout): Dropout(p=0.1, inplace=False)\n",
       "            )\n",
       "            (output): BertSelfOutput(\n",
       "              (dense): Linear(in_features=768, out_features=768, bias=True)\n",
       "              (LayerNorm): LayerNorm((768,), eps=1e-12, elementwise_affine=True)\n",
       "              (dropout): Dropout(p=0.1, inplace=False)\n",
       "            )\n",
       "          )\n",
       "          (intermediate): BertIntermediate(\n",
       "            (dense): Linear(in_features=768, out_features=3072, bias=True)\n",
       "          )\n",
       "          (output): BertOutput(\n",
       "            (dense): Linear(in_features=3072, out_features=768, bias=True)\n",
       "            (LayerNorm): LayerNorm((768,), eps=1e-12, elementwise_affine=True)\n",
       "            (dropout): Dropout(p=0.1, inplace=False)\n",
       "          )\n",
       "        )\n",
       "        (1): BertLayer(\n",
       "          (attention): BertAttention(\n",
       "            (self): BertSelfAttention(\n",
       "              (query): Linear(in_features=768, out_features=768, bias=True)\n",
       "              (key): Linear(in_features=768, out_features=768, bias=True)\n",
       "              (value): Linear(in_features=768, out_features=768, bias=True)\n",
       "              (dropout): Dropout(p=0.1, inplace=False)\n",
       "            )\n",
       "            (output): BertSelfOutput(\n",
       "              (dense): Linear(in_features=768, out_features=768, bias=True)\n",
       "              (LayerNorm): LayerNorm((768,), eps=1e-12, elementwise_affine=True)\n",
       "              (dropout): Dropout(p=0.1, inplace=False)\n",
       "            )\n",
       "          )\n",
       "          (intermediate): BertIntermediate(\n",
       "            (dense): Linear(in_features=768, out_features=3072, bias=True)\n",
       "          )\n",
       "          (output): BertOutput(\n",
       "            (dense): Linear(in_features=3072, out_features=768, bias=True)\n",
       "            (LayerNorm): LayerNorm((768,), eps=1e-12, elementwise_affine=True)\n",
       "            (dropout): Dropout(p=0.1, inplace=False)\n",
       "          )\n",
       "        )\n",
       "        (2): BertLayer(\n",
       "          (attention): BertAttention(\n",
       "            (self): BertSelfAttention(\n",
       "              (query): Linear(in_features=768, out_features=768, bias=True)\n",
       "              (key): Linear(in_features=768, out_features=768, bias=True)\n",
       "              (value): Linear(in_features=768, out_features=768, bias=True)\n",
       "              (dropout): Dropout(p=0.1, inplace=False)\n",
       "            )\n",
       "            (output): BertSelfOutput(\n",
       "              (dense): Linear(in_features=768, out_features=768, bias=True)\n",
       "              (LayerNorm): LayerNorm((768,), eps=1e-12, elementwise_affine=True)\n",
       "              (dropout): Dropout(p=0.1, inplace=False)\n",
       "            )\n",
       "          )\n",
       "          (intermediate): BertIntermediate(\n",
       "            (dense): Linear(in_features=768, out_features=3072, bias=True)\n",
       "          )\n",
       "          (output): BertOutput(\n",
       "            (dense): Linear(in_features=3072, out_features=768, bias=True)\n",
       "            (LayerNorm): LayerNorm((768,), eps=1e-12, elementwise_affine=True)\n",
       "            (dropout): Dropout(p=0.1, inplace=False)\n",
       "          )\n",
       "        )\n",
       "        (3): BertLayer(\n",
       "          (attention): BertAttention(\n",
       "            (self): BertSelfAttention(\n",
       "              (query): Linear(in_features=768, out_features=768, bias=True)\n",
       "              (key): Linear(in_features=768, out_features=768, bias=True)\n",
       "              (value): Linear(in_features=768, out_features=768, bias=True)\n",
       "              (dropout): Dropout(p=0.1, inplace=False)\n",
       "            )\n",
       "            (output): BertSelfOutput(\n",
       "              (dense): Linear(in_features=768, out_features=768, bias=True)\n",
       "              (LayerNorm): LayerNorm((768,), eps=1e-12, elementwise_affine=True)\n",
       "              (dropout): Dropout(p=0.1, inplace=False)\n",
       "            )\n",
       "          )\n",
       "          (intermediate): BertIntermediate(\n",
       "            (dense): Linear(in_features=768, out_features=3072, bias=True)\n",
       "          )\n",
       "          (output): BertOutput(\n",
       "            (dense): Linear(in_features=3072, out_features=768, bias=True)\n",
       "            (LayerNorm): LayerNorm((768,), eps=1e-12, elementwise_affine=True)\n",
       "            (dropout): Dropout(p=0.1, inplace=False)\n",
       "          )\n",
       "        )\n",
       "        (4): BertLayer(\n",
       "          (attention): BertAttention(\n",
       "            (self): BertSelfAttention(\n",
       "              (query): Linear(in_features=768, out_features=768, bias=True)\n",
       "              (key): Linear(in_features=768, out_features=768, bias=True)\n",
       "              (value): Linear(in_features=768, out_features=768, bias=True)\n",
       "              (dropout): Dropout(p=0.1, inplace=False)\n",
       "            )\n",
       "            (output): BertSelfOutput(\n",
       "              (dense): Linear(in_features=768, out_features=768, bias=True)\n",
       "              (LayerNorm): LayerNorm((768,), eps=1e-12, elementwise_affine=True)\n",
       "              (dropout): Dropout(p=0.1, inplace=False)\n",
       "            )\n",
       "          )\n",
       "          (intermediate): BertIntermediate(\n",
       "            (dense): Linear(in_features=768, out_features=3072, bias=True)\n",
       "          )\n",
       "          (output): BertOutput(\n",
       "            (dense): Linear(in_features=3072, out_features=768, bias=True)\n",
       "            (LayerNorm): LayerNorm((768,), eps=1e-12, elementwise_affine=True)\n",
       "            (dropout): Dropout(p=0.1, inplace=False)\n",
       "          )\n",
       "        )\n",
       "        (5): BertLayer(\n",
       "          (attention): BertAttention(\n",
       "            (self): BertSelfAttention(\n",
       "              (query): Linear(in_features=768, out_features=768, bias=True)\n",
       "              (key): Linear(in_features=768, out_features=768, bias=True)\n",
       "              (value): Linear(in_features=768, out_features=768, bias=True)\n",
       "              (dropout): Dropout(p=0.1, inplace=False)\n",
       "            )\n",
       "            (output): BertSelfOutput(\n",
       "              (dense): Linear(in_features=768, out_features=768, bias=True)\n",
       "              (LayerNorm): LayerNorm((768,), eps=1e-12, elementwise_affine=True)\n",
       "              (dropout): Dropout(p=0.1, inplace=False)\n",
       "            )\n",
       "          )\n",
       "          (intermediate): BertIntermediate(\n",
       "            (dense): Linear(in_features=768, out_features=3072, bias=True)\n",
       "          )\n",
       "          (output): BertOutput(\n",
       "            (dense): Linear(in_features=3072, out_features=768, bias=True)\n",
       "            (LayerNorm): LayerNorm((768,), eps=1e-12, elementwise_affine=True)\n",
       "            (dropout): Dropout(p=0.1, inplace=False)\n",
       "          )\n",
       "        )\n",
       "        (6): BertLayer(\n",
       "          (attention): BertAttention(\n",
       "            (self): BertSelfAttention(\n",
       "              (query): Linear(in_features=768, out_features=768, bias=True)\n",
       "              (key): Linear(in_features=768, out_features=768, bias=True)\n",
       "              (value): Linear(in_features=768, out_features=768, bias=True)\n",
       "              (dropout): Dropout(p=0.1, inplace=False)\n",
       "            )\n",
       "            (output): BertSelfOutput(\n",
       "              (dense): Linear(in_features=768, out_features=768, bias=True)\n",
       "              (LayerNorm): LayerNorm((768,), eps=1e-12, elementwise_affine=True)\n",
       "              (dropout): Dropout(p=0.1, inplace=False)\n",
       "            )\n",
       "          )\n",
       "          (intermediate): BertIntermediate(\n",
       "            (dense): Linear(in_features=768, out_features=3072, bias=True)\n",
       "          )\n",
       "          (output): BertOutput(\n",
       "            (dense): Linear(in_features=3072, out_features=768, bias=True)\n",
       "            (LayerNorm): LayerNorm((768,), eps=1e-12, elementwise_affine=True)\n",
       "            (dropout): Dropout(p=0.1, inplace=False)\n",
       "          )\n",
       "        )\n",
       "        (7): BertLayer(\n",
       "          (attention): BertAttention(\n",
       "            (self): BertSelfAttention(\n",
       "              (query): Linear(in_features=768, out_features=768, bias=True)\n",
       "              (key): Linear(in_features=768, out_features=768, bias=True)\n",
       "              (value): Linear(in_features=768, out_features=768, bias=True)\n",
       "              (dropout): Dropout(p=0.1, inplace=False)\n",
       "            )\n",
       "            (output): BertSelfOutput(\n",
       "              (dense): Linear(in_features=768, out_features=768, bias=True)\n",
       "              (LayerNorm): LayerNorm((768,), eps=1e-12, elementwise_affine=True)\n",
       "              (dropout): Dropout(p=0.1, inplace=False)\n",
       "            )\n",
       "          )\n",
       "          (intermediate): BertIntermediate(\n",
       "            (dense): Linear(in_features=768, out_features=3072, bias=True)\n",
       "          )\n",
       "          (output): BertOutput(\n",
       "            (dense): Linear(in_features=3072, out_features=768, bias=True)\n",
       "            (LayerNorm): LayerNorm((768,), eps=1e-12, elementwise_affine=True)\n",
       "            (dropout): Dropout(p=0.1, inplace=False)\n",
       "          )\n",
       "        )\n",
       "        (8): BertLayer(\n",
       "          (attention): BertAttention(\n",
       "            (self): BertSelfAttention(\n",
       "              (query): Linear(in_features=768, out_features=768, bias=True)\n",
       "              (key): Linear(in_features=768, out_features=768, bias=True)\n",
       "              (value): Linear(in_features=768, out_features=768, bias=True)\n",
       "              (dropout): Dropout(p=0.1, inplace=False)\n",
       "            )\n",
       "            (output): BertSelfOutput(\n",
       "              (dense): Linear(in_features=768, out_features=768, bias=True)\n",
       "              (LayerNorm): LayerNorm((768,), eps=1e-12, elementwise_affine=True)\n",
       "              (dropout): Dropout(p=0.1, inplace=False)\n",
       "            )\n",
       "          )\n",
       "          (intermediate): BertIntermediate(\n",
       "            (dense): Linear(in_features=768, out_features=3072, bias=True)\n",
       "          )\n",
       "          (output): BertOutput(\n",
       "            (dense): Linear(in_features=3072, out_features=768, bias=True)\n",
       "            (LayerNorm): LayerNorm((768,), eps=1e-12, elementwise_affine=True)\n",
       "            (dropout): Dropout(p=0.1, inplace=False)\n",
       "          )\n",
       "        )\n",
       "        (9): BertLayer(\n",
       "          (attention): BertAttention(\n",
       "            (self): BertSelfAttention(\n",
       "              (query): Linear(in_features=768, out_features=768, bias=True)\n",
       "              (key): Linear(in_features=768, out_features=768, bias=True)\n",
       "              (value): Linear(in_features=768, out_features=768, bias=True)\n",
       "              (dropout): Dropout(p=0.1, inplace=False)\n",
       "            )\n",
       "            (output): BertSelfOutput(\n",
       "              (dense): Linear(in_features=768, out_features=768, bias=True)\n",
       "              (LayerNorm): LayerNorm((768,), eps=1e-12, elementwise_affine=True)\n",
       "              (dropout): Dropout(p=0.1, inplace=False)\n",
       "            )\n",
       "          )\n",
       "          (intermediate): BertIntermediate(\n",
       "            (dense): Linear(in_features=768, out_features=3072, bias=True)\n",
       "          )\n",
       "          (output): BertOutput(\n",
       "            (dense): Linear(in_features=3072, out_features=768, bias=True)\n",
       "            (LayerNorm): LayerNorm((768,), eps=1e-12, elementwise_affine=True)\n",
       "            (dropout): Dropout(p=0.1, inplace=False)\n",
       "          )\n",
       "        )\n",
       "        (10): BertLayer(\n",
       "          (attention): BertAttention(\n",
       "            (self): BertSelfAttention(\n",
       "              (query): Linear(in_features=768, out_features=768, bias=True)\n",
       "              (key): Linear(in_features=768, out_features=768, bias=True)\n",
       "              (value): Linear(in_features=768, out_features=768, bias=True)\n",
       "              (dropout): Dropout(p=0.1, inplace=False)\n",
       "            )\n",
       "            (output): BertSelfOutput(\n",
       "              (dense): Linear(in_features=768, out_features=768, bias=True)\n",
       "              (LayerNorm): LayerNorm((768,), eps=1e-12, elementwise_affine=True)\n",
       "              (dropout): Dropout(p=0.1, inplace=False)\n",
       "            )\n",
       "          )\n",
       "          (intermediate): BertIntermediate(\n",
       "            (dense): Linear(in_features=768, out_features=3072, bias=True)\n",
       "          )\n",
       "          (output): BertOutput(\n",
       "            (dense): Linear(in_features=3072, out_features=768, bias=True)\n",
       "            (LayerNorm): LayerNorm((768,), eps=1e-12, elementwise_affine=True)\n",
       "            (dropout): Dropout(p=0.1, inplace=False)\n",
       "          )\n",
       "        )\n",
       "        (11): BertLayer(\n",
       "          (attention): BertAttention(\n",
       "            (self): BertSelfAttention(\n",
       "              (query): Linear(in_features=768, out_features=768, bias=True)\n",
       "              (key): Linear(in_features=768, out_features=768, bias=True)\n",
       "              (value): Linear(in_features=768, out_features=768, bias=True)\n",
       "              (dropout): Dropout(p=0.1, inplace=False)\n",
       "            )\n",
       "            (output): BertSelfOutput(\n",
       "              (dense): Linear(in_features=768, out_features=768, bias=True)\n",
       "              (LayerNorm): LayerNorm((768,), eps=1e-12, elementwise_affine=True)\n",
       "              (dropout): Dropout(p=0.1, inplace=False)\n",
       "            )\n",
       "          )\n",
       "          (intermediate): BertIntermediate(\n",
       "            (dense): Linear(in_features=768, out_features=3072, bias=True)\n",
       "          )\n",
       "          (output): BertOutput(\n",
       "            (dense): Linear(in_features=3072, out_features=768, bias=True)\n",
       "            (LayerNorm): LayerNorm((768,), eps=1e-12, elementwise_affine=True)\n",
       "            (dropout): Dropout(p=0.1, inplace=False)\n",
       "          )\n",
       "        )\n",
       "      )\n",
       "    )\n",
       "    (pooler): BertPooler(\n",
       "      (dense): Linear(in_features=768, out_features=768, bias=True)\n",
       "      (activation): Tanh()\n",
       "    )\n",
       "  )\n",
       "  (dropout): Dropout(p=0.1, inplace=False)\n",
       "  (classifier): Linear(in_features=768, out_features=2, bias=True)\n",
       ")"
      ]
     },
     "execution_count": 19,
     "metadata": {
      "tags": []
     },
     "output_type": "execute_result"
    }
   ],
   "source": [
    "# # D_in - input dimension (768 у BERT);\n",
    "# # H - dimension of hidden layers; \n",
    "# # D_out - the dimension of the output layer (the number of classes)\n",
    "# D_in, H, D_out = 768, 2000, 2\n",
    "\n",
    "# # Use the nn package to define our model and loss function.\n",
    "# classifier = torch.nn.Sequential(\n",
    "#     torch.nn.Linear(D_in, H),\n",
    "#     torch.nn.PReLU(),\n",
    "#     torch.nn.Linear(H, H),\n",
    "#     torch.nn.Dropout(0.1),\n",
    "#     torch.nn.PReLU(),\n",
    "#     torch.nn.Linear(H, D_out),\n",
    "# )\n",
    "\n",
    "# model.classifier = classifier\n",
    "\n",
    "model"
   ]
  },
  {
   "cell_type": "markdown",
   "metadata": {
    "colab_type": "text",
    "id": "iAeUkqUXvobS"
   },
   "source": [
    "If we want to freez some layers"
   ]
  },
  {
   "cell_type": "code",
   "execution_count": null,
   "metadata": {
    "colab": {
     "base_uri": "https://localhost:8080/",
     "height": 1000
    },
    "colab_type": "code",
    "id": "G9OJf8ywtUCg",
    "outputId": "3095421f-d07b-4498-fa2e-03da80362fdb"
   },
   "outputs": [
    {
     "name": "stdout",
     "output_type": "stream",
     "text": [
      "bert.embeddings.word_embeddings.weight                          True\n",
      "bert.embeddings.position_embeddings.weight                      True\n",
      "bert.embeddings.token_type_embeddings.weight                    True\n",
      "bert.embeddings.LayerNorm.weight                                True\n",
      "bert.embeddings.LayerNorm.bias                                  True\n",
      "bert.encoder.layer.0.attention.self.query.weight                True\n",
      "bert.encoder.layer.0.attention.self.query.bias                  True\n",
      "bert.encoder.layer.0.attention.self.key.weight                  True\n",
      "bert.encoder.layer.0.attention.self.key.bias                    True\n",
      "bert.encoder.layer.0.attention.self.value.weight                True\n",
      "bert.encoder.layer.0.attention.self.value.bias                  True\n",
      "bert.encoder.layer.0.attention.output.dense.weight              True\n",
      "bert.encoder.layer.0.attention.output.dense.bias                True\n",
      "bert.encoder.layer.0.attention.output.LayerNorm.weight          True\n",
      "bert.encoder.layer.0.attention.output.LayerNorm.bias            True\n",
      "bert.encoder.layer.0.intermediate.dense.weight                  True\n",
      "bert.encoder.layer.0.intermediate.dense.bias                    True\n",
      "bert.encoder.layer.0.output.dense.weight                        True\n",
      "bert.encoder.layer.0.output.dense.bias                          True\n",
      "bert.encoder.layer.0.output.LayerNorm.weight                    True\n",
      "bert.encoder.layer.0.output.LayerNorm.bias                      True\n",
      "bert.encoder.layer.1.attention.self.query.weight                True\n",
      "bert.encoder.layer.1.attention.self.query.bias                  True\n",
      "bert.encoder.layer.1.attention.self.key.weight                  True\n",
      "bert.encoder.layer.1.attention.self.key.bias                    True\n",
      "bert.encoder.layer.1.attention.self.value.weight                True\n",
      "bert.encoder.layer.1.attention.self.value.bias                  True\n",
      "bert.encoder.layer.1.attention.output.dense.weight              True\n",
      "bert.encoder.layer.1.attention.output.dense.bias                True\n",
      "bert.encoder.layer.1.attention.output.LayerNorm.weight          True\n",
      "bert.encoder.layer.1.attention.output.LayerNorm.bias            True\n",
      "bert.encoder.layer.1.intermediate.dense.weight                  True\n",
      "bert.encoder.layer.1.intermediate.dense.bias                    True\n",
      "bert.encoder.layer.1.output.dense.weight                        True\n",
      "bert.encoder.layer.1.output.dense.bias                          True\n",
      "bert.encoder.layer.1.output.LayerNorm.weight                    True\n",
      "bert.encoder.layer.1.output.LayerNorm.bias                      True\n",
      "bert.encoder.layer.2.attention.self.query.weight                True\n",
      "bert.encoder.layer.2.attention.self.query.bias                  True\n",
      "bert.encoder.layer.2.attention.self.key.weight                  True\n",
      "bert.encoder.layer.2.attention.self.key.bias                    True\n",
      "bert.encoder.layer.2.attention.self.value.weight                True\n",
      "bert.encoder.layer.2.attention.self.value.bias                  True\n",
      "bert.encoder.layer.2.attention.output.dense.weight              True\n",
      "bert.encoder.layer.2.attention.output.dense.bias                True\n",
      "bert.encoder.layer.2.attention.output.LayerNorm.weight          True\n",
      "bert.encoder.layer.2.attention.output.LayerNorm.bias            True\n",
      "bert.encoder.layer.2.intermediate.dense.weight                  True\n",
      "bert.encoder.layer.2.intermediate.dense.bias                    True\n",
      "bert.encoder.layer.2.output.dense.weight                        True\n",
      "bert.encoder.layer.2.output.dense.bias                          True\n",
      "bert.encoder.layer.2.output.LayerNorm.weight                    True\n",
      "bert.encoder.layer.2.output.LayerNorm.bias                      True\n",
      "bert.encoder.layer.3.attention.self.query.weight                True\n",
      "bert.encoder.layer.3.attention.self.query.bias                  True\n",
      "bert.encoder.layer.3.attention.self.key.weight                  True\n",
      "bert.encoder.layer.3.attention.self.key.bias                    True\n",
      "bert.encoder.layer.3.attention.self.value.weight                True\n",
      "bert.encoder.layer.3.attention.self.value.bias                  True\n",
      "bert.encoder.layer.3.attention.output.dense.weight              True\n",
      "bert.encoder.layer.3.attention.output.dense.bias                True\n",
      "bert.encoder.layer.3.attention.output.LayerNorm.weight          True\n",
      "bert.encoder.layer.3.attention.output.LayerNorm.bias            True\n",
      "bert.encoder.layer.3.intermediate.dense.weight                  True\n",
      "bert.encoder.layer.3.intermediate.dense.bias                    True\n",
      "bert.encoder.layer.3.output.dense.weight                        True\n",
      "bert.encoder.layer.3.output.dense.bias                          True\n",
      "bert.encoder.layer.3.output.LayerNorm.weight                    True\n",
      "bert.encoder.layer.3.output.LayerNorm.bias                      True\n",
      "bert.encoder.layer.4.attention.self.query.weight                True\n",
      "bert.encoder.layer.4.attention.self.query.bias                  True\n",
      "bert.encoder.layer.4.attention.self.key.weight                  True\n",
      "bert.encoder.layer.4.attention.self.key.bias                    True\n",
      "bert.encoder.layer.4.attention.self.value.weight                True\n",
      "bert.encoder.layer.4.attention.self.value.bias                  True\n",
      "bert.encoder.layer.4.attention.output.dense.weight              True\n",
      "bert.encoder.layer.4.attention.output.dense.bias                True\n",
      "bert.encoder.layer.4.attention.output.LayerNorm.weight          True\n",
      "bert.encoder.layer.4.attention.output.LayerNorm.bias            True\n",
      "bert.encoder.layer.4.intermediate.dense.weight                  True\n",
      "bert.encoder.layer.4.intermediate.dense.bias                    True\n",
      "bert.encoder.layer.4.output.dense.weight                        True\n",
      "bert.encoder.layer.4.output.dense.bias                          True\n",
      "bert.encoder.layer.4.output.LayerNorm.weight                    True\n",
      "bert.encoder.layer.4.output.LayerNorm.bias                      True\n",
      "bert.encoder.layer.5.attention.self.query.weight                True\n",
      "bert.encoder.layer.5.attention.self.query.bias                  True\n",
      "bert.encoder.layer.5.attention.self.key.weight                  True\n",
      "bert.encoder.layer.5.attention.self.key.bias                    True\n",
      "bert.encoder.layer.5.attention.self.value.weight                True\n",
      "bert.encoder.layer.5.attention.self.value.bias                  True\n",
      "bert.encoder.layer.5.attention.output.dense.weight              True\n",
      "bert.encoder.layer.5.attention.output.dense.bias                True\n",
      "bert.encoder.layer.5.attention.output.LayerNorm.weight          True\n",
      "bert.encoder.layer.5.attention.output.LayerNorm.bias            True\n",
      "bert.encoder.layer.5.intermediate.dense.weight                  True\n",
      "bert.encoder.layer.5.intermediate.dense.bias                    True\n",
      "bert.encoder.layer.5.output.dense.weight                        True\n",
      "bert.encoder.layer.5.output.dense.bias                          True\n",
      "bert.encoder.layer.5.output.LayerNorm.weight                    True\n",
      "bert.encoder.layer.5.output.LayerNorm.bias                      True\n",
      "bert.encoder.layer.6.attention.self.query.weight                True\n",
      "bert.encoder.layer.6.attention.self.query.bias                  True\n",
      "bert.encoder.layer.6.attention.self.key.weight                  True\n",
      "bert.encoder.layer.6.attention.self.key.bias                    True\n",
      "bert.encoder.layer.6.attention.self.value.weight                True\n",
      "bert.encoder.layer.6.attention.self.value.bias                  True\n",
      "bert.encoder.layer.6.attention.output.dense.weight              True\n",
      "bert.encoder.layer.6.attention.output.dense.bias                True\n",
      "bert.encoder.layer.6.attention.output.LayerNorm.weight          True\n",
      "bert.encoder.layer.6.attention.output.LayerNorm.bias            True\n",
      "bert.encoder.layer.6.intermediate.dense.weight                  True\n",
      "bert.encoder.layer.6.intermediate.dense.bias                    True\n",
      "bert.encoder.layer.6.output.dense.weight                        True\n",
      "bert.encoder.layer.6.output.dense.bias                          True\n",
      "bert.encoder.layer.6.output.LayerNorm.weight                    True\n",
      "bert.encoder.layer.6.output.LayerNorm.bias                      True\n",
      "bert.encoder.layer.7.attention.self.query.weight                True\n",
      "bert.encoder.layer.7.attention.self.query.bias                  True\n",
      "bert.encoder.layer.7.attention.self.key.weight                  True\n",
      "bert.encoder.layer.7.attention.self.key.bias                    True\n",
      "bert.encoder.layer.7.attention.self.value.weight                True\n",
      "bert.encoder.layer.7.attention.self.value.bias                  True\n",
      "bert.encoder.layer.7.attention.output.dense.weight              True\n",
      "bert.encoder.layer.7.attention.output.dense.bias                True\n",
      "bert.encoder.layer.7.attention.output.LayerNorm.weight          True\n",
      "bert.encoder.layer.7.attention.output.LayerNorm.bias            True\n",
      "bert.encoder.layer.7.intermediate.dense.weight                  True\n",
      "bert.encoder.layer.7.intermediate.dense.bias                    True\n",
      "bert.encoder.layer.7.output.dense.weight                        True\n",
      "bert.encoder.layer.7.output.dense.bias                          True\n",
      "bert.encoder.layer.7.output.LayerNorm.weight                    True\n",
      "bert.encoder.layer.7.output.LayerNorm.bias                      True\n",
      "bert.encoder.layer.8.attention.self.query.weight                True\n",
      "bert.encoder.layer.8.attention.self.query.bias                  True\n",
      "bert.encoder.layer.8.attention.self.key.weight                  True\n",
      "bert.encoder.layer.8.attention.self.key.bias                    True\n",
      "bert.encoder.layer.8.attention.self.value.weight                True\n",
      "bert.encoder.layer.8.attention.self.value.bias                  True\n",
      "bert.encoder.layer.8.attention.output.dense.weight              True\n",
      "bert.encoder.layer.8.attention.output.dense.bias                True\n",
      "bert.encoder.layer.8.attention.output.LayerNorm.weight          True\n",
      "bert.encoder.layer.8.attention.output.LayerNorm.bias            True\n",
      "bert.encoder.layer.8.intermediate.dense.weight                  True\n",
      "bert.encoder.layer.8.intermediate.dense.bias                    True\n",
      "bert.encoder.layer.8.output.dense.weight                        True\n",
      "bert.encoder.layer.8.output.dense.bias                          True\n",
      "bert.encoder.layer.8.output.LayerNorm.weight                    True\n",
      "bert.encoder.layer.8.output.LayerNorm.bias                      True\n",
      "bert.encoder.layer.9.attention.self.query.weight                True\n",
      "bert.encoder.layer.9.attention.self.query.bias                  True\n",
      "bert.encoder.layer.9.attention.self.key.weight                  True\n",
      "bert.encoder.layer.9.attention.self.key.bias                    True\n",
      "bert.encoder.layer.9.attention.self.value.weight                True\n",
      "bert.encoder.layer.9.attention.self.value.bias                  True\n",
      "bert.encoder.layer.9.attention.output.dense.weight              True\n",
      "bert.encoder.layer.9.attention.output.dense.bias                True\n",
      "bert.encoder.layer.9.attention.output.LayerNorm.weight          True\n",
      "bert.encoder.layer.9.attention.output.LayerNorm.bias            True\n",
      "bert.encoder.layer.9.intermediate.dense.weight                  True\n",
      "bert.encoder.layer.9.intermediate.dense.bias                    True\n",
      "bert.encoder.layer.9.output.dense.weight                        True\n",
      "bert.encoder.layer.9.output.dense.bias                          True\n",
      "bert.encoder.layer.9.output.LayerNorm.weight                    True\n",
      "bert.encoder.layer.9.output.LayerNorm.bias                      True\n",
      "bert.encoder.layer.10.attention.self.query.weight               True\n",
      "bert.encoder.layer.10.attention.self.query.bias                 True\n",
      "bert.encoder.layer.10.attention.self.key.weight                 True\n",
      "bert.encoder.layer.10.attention.self.key.bias                   True\n",
      "bert.encoder.layer.10.attention.self.value.weight               True\n",
      "bert.encoder.layer.10.attention.self.value.bias                 True\n",
      "bert.encoder.layer.10.attention.output.dense.weight             True\n",
      "bert.encoder.layer.10.attention.output.dense.bias               True\n",
      "bert.encoder.layer.10.attention.output.LayerNorm.weight         True\n",
      "bert.encoder.layer.10.attention.output.LayerNorm.bias           True\n",
      "bert.encoder.layer.10.intermediate.dense.weight                 True\n",
      "bert.encoder.layer.10.intermediate.dense.bias                   True\n",
      "bert.encoder.layer.10.output.dense.weight                       True\n",
      "bert.encoder.layer.10.output.dense.bias                         True\n",
      "bert.encoder.layer.10.output.LayerNorm.weight                   True\n",
      "bert.encoder.layer.10.output.LayerNorm.bias                     True\n",
      "bert.encoder.layer.11.attention.self.query.weight               True\n",
      "bert.encoder.layer.11.attention.self.query.bias                 True\n",
      "bert.encoder.layer.11.attention.self.key.weight                 True\n",
      "bert.encoder.layer.11.attention.self.key.bias                   True\n",
      "bert.encoder.layer.11.attention.self.value.weight               True\n",
      "bert.encoder.layer.11.attention.self.value.bias                 True\n",
      "bert.encoder.layer.11.attention.output.dense.weight             True\n",
      "bert.encoder.layer.11.attention.output.dense.bias               True\n",
      "bert.encoder.layer.11.attention.output.LayerNorm.weight         True\n",
      "bert.encoder.layer.11.attention.output.LayerNorm.bias           True\n",
      "bert.encoder.layer.11.intermediate.dense.weight                 True\n",
      "bert.encoder.layer.11.intermediate.dense.bias                   True\n",
      "bert.encoder.layer.11.output.dense.weight                       True\n",
      "bert.encoder.layer.11.output.dense.bias                         True\n",
      "bert.encoder.layer.11.output.LayerNorm.weight                   True\n",
      "bert.encoder.layer.11.output.LayerNorm.bias                     True\n",
      "bert.pooler.dense.weight                                        True\n",
      "bert.pooler.dense.bias                                          True\n",
      "classifier.weight                                               True\n",
      "classifier.bias                                                 True\n"
     ]
    }
   ],
   "source": [
    "# layers_to_unfreeze = 4 + 16 * 5\n",
    "\n",
    "params = list(model.named_parameters())\n",
    "# for p in params[:-layers_to_unfreeze]:    \n",
    "#     p[1].requires_grad = False\n",
    "\n",
    "for p in params[:]:    \n",
    "    print(\"{:<55} {:>12}\".format(p[0], str(p[1].requires_grad)))"
   ]
  },
  {
   "cell_type": "code",
   "execution_count": null,
   "metadata": {
    "colab": {},
    "colab_type": "code",
    "id": "8OYotmk7Xe5O"
   },
   "outputs": [],
   "source": [
    "optimizer = AdamW(model.parameters(),\n",
    "                  lr = 3e-5, # args.learning_rate - default is 5e-5\n",
    "                  eps = 1e-8, # args.adam_epsilon  - default is 1e-8.\n",
    "                )\n",
    "\n",
    "\n",
    "epochs = 2\n",
    "\n",
    "# Total number of training steps is [number of batches] x [number of epochs]. \n",
    "total_steps = len(train_dataloader) * epochs\n",
    "\n",
    "# Create the learning rate scheduler.\n",
    "scheduler = get_linear_schedule_with_warmup(optimizer, \n",
    "                                            num_warmup_steps = 0, # Default value in run_glue.py\n",
    "                                            num_training_steps = total_steps)"
   ]
  },
  {
   "cell_type": "markdown",
   "metadata": {
    "colab_type": "text",
    "id": "dmExaLHH4hXl"
   },
   "source": [
    "Construct helper class for our model"
   ]
  },
  {
   "cell_type": "code",
   "execution_count": null,
   "metadata": {
    "colab": {},
    "colab_type": "code",
    "id": "-Ob_OTozLBpO"
   },
   "outputs": [],
   "source": [
    "Model = Model(model, optimizer, scheduler)"
   ]
  },
  {
   "cell_type": "markdown",
   "metadata": {
    "colab_type": "text",
    "id": "28xUPZ2kLRQl"
   },
   "source": [
    "Traning"
   ]
  },
  {
   "cell_type": "code",
   "execution_count": null,
   "metadata": {
    "colab": {
     "base_uri": "https://localhost:8080/",
     "height": 596,
     "referenced_widgets": [
      "79ceb0ad3196400aa367d5229d50fc0c",
      "17e4700383234b5784ab2e7618f552c9",
      "3b622058e0b7408a9feb0a593f0d5c72",
      "731dba69ec6c42599ff0ec0cabcdefe1",
      "66130c138381483dbda350ecc4bf1283",
      "0609e14dd94949cdb69d4364c40f4196",
      "3f392f84de7149f892bd4437a2b68d30",
      "ff6cdd7a8ec94afb9407e01a26449ba2",
      "1cc3259d01454c7485881a2b513b4419",
      "8d4c09abb433429eb5aa3f4e9c6e120a",
      "247b2eec955343c38b376de03ffbcf34",
      "fb3763a7f10745dfaeb7ca592e4131b9",
      "c700aa415f5c41a28277898602bc420c",
      "bbe256283ffa4b2080cb2e3bc63b8f29",
      "dc66ec724a5f4eef97dc0e6bac369828",
      "0a5e9be1e78e42b3afa70d0ccb5697eb",
      "3e5b59fe9ab74d899d74e5577bbb3865",
      "8a8a4dd647644b69b20a559a66589047",
      "9bbc806582784fce929fd36180517548",
      "206e35c6801b48668f5d77faf17f65df",
      "86aadbdacbdf44688e4d7b097193f9ed",
      "848cc141dee64e8190e072c1acd26b33",
      "14b141655818450abd8a4c999b169680",
      "0ccf1f9d67c64869a0fb683ca284b6ed",
      "94b30da7d91c4caca19fd7f5895a0dfb",
      "ad8b3eea8cd3458ab2fa512927386cc6",
      "98f3bf58600e423d9723aa5fa6952602",
      "e11f1644ccaa4db3a9cd586d33f804b5",
      "57c3e6ecd5894b80ab79c6830496628f",
      "5cfbadad9c8540e29907484b9fbaf7cd",
      "2e11f74df0724208badd3a4b97812a81",
      "dde9c860ad5846afa31c17b46d3ecda8"
     ]
    },
    "colab_type": "code",
    "id": "Y0s6HIqULOXd",
    "outputId": "cc688785-f95c-4e56-b507-d2660ba486b5"
   },
   "outputs": [
    {
     "data": {
      "application/vnd.jupyter.widget-view+json": {
       "model_id": "79ceb0ad3196400aa367d5229d50fc0c",
       "version_major": 2,
       "version_minor": 0
      },
      "text/plain": [
       "VBox(children=(HTML(value=''), IntProgress(value=0, max=80)))"
      ]
     },
     "metadata": {
      "tags": []
     },
     "output_type": "display_data"
    },
    {
     "name": "stdout",
     "output_type": "stream",
     "text": [
      "\n",
      "  Average training loss: 0.23\n",
      "  Training epoch took: 0:02:10\n",
      "\n",
      "Running Validation...\n"
     ]
    },
    {
     "data": {
      "application/vnd.jupyter.widget-view+json": {
       "model_id": "1cc3259d01454c7485881a2b513b4419",
       "version_major": 2,
       "version_minor": 0
      },
      "text/plain": [
       "VBox(children=(HTML(value=''), IntProgress(value=0, max=20)))"
      ]
     },
     "metadata": {
      "tags": []
     },
     "output_type": "display_data"
    },
    {
     "name": "stdout",
     "output_type": "stream",
     "text": [
      "  Accuracy: 0.91\n",
      "  Validation Loss: 0.25\n",
      "  Validation took: 0:00:12\n"
     ]
    },
    {
     "data": {
      "application/vnd.jupyter.widget-view+json": {
       "model_id": "3e5b59fe9ab74d899d74e5577bbb3865",
       "version_major": 2,
       "version_minor": 0
      },
      "text/plain": [
       "VBox(children=(HTML(value=''), IntProgress(value=0, max=80)))"
      ]
     },
     "metadata": {
      "tags": []
     },
     "output_type": "display_data"
    },
    {
     "name": "stdout",
     "output_type": "stream",
     "text": [
      "\n",
      "  Average training loss: 0.17\n",
      "  Training epoch took: 0:02:11\n",
      "\n",
      "Running Validation...\n"
     ]
    },
    {
     "data": {
      "application/vnd.jupyter.widget-view+json": {
       "model_id": "94b30da7d91c4caca19fd7f5895a0dfb",
       "version_major": 2,
       "version_minor": 0
      },
      "text/plain": [
       "VBox(children=(HTML(value=''), IntProgress(value=0, max=20)))"
      ]
     },
     "metadata": {
      "tags": []
     },
     "output_type": "display_data"
    },
    {
     "name": "stdout",
     "output_type": "stream",
     "text": [
      "  Accuracy: 0.91\n",
      "  Validation Loss: 0.26\n",
      "  Validation took: 0:00:12\n",
      "\n",
      "Training complete!\n",
      "Total training took 0:04:45 (h:mm:ss)\n"
     ]
    }
   ],
   "source": [
    "Model.fit(train_dataloader, validation_dataloader, epochs=epochs)"
   ]
  },
  {
   "cell_type": "markdown",
   "metadata": {
    "colab_type": "text",
    "id": "z-SvZwZegKjg"
   },
   "source": [
    "Let's see the training and validation statistics"
   ]
  },
  {
   "cell_type": "code",
   "execution_count": null,
   "metadata": {
    "colab": {
     "base_uri": "https://localhost:8080/",
     "height": 586
    },
    "colab_type": "code",
    "id": "EENeO9hPf9tq",
    "outputId": "1f21b706-75a4-4f82-98a5-b6841281f368"
   },
   "outputs": [
    {
     "data": {
      "image/png": "[encoded data removed]",
      "text/plain": [
       "<Figure size 864x432 with 1 Axes>"
      ]
     },
     "metadata": {
      "tags": []
     },
     "output_type": "display_data"
    },
    {
     "name": "stdout",
     "output_type": "stream",
     "text": [
      "\n",
      "\n"
     ]
    },
    {
     "data": {
      "text/html": [
       "<div>\n",
       "<style scoped>\n",
       "    .dataframe tbody tr th:only-of-type {\n",
       "        vertical-align: middle;\n",
       "    }\n",
       "\n",
       "    .dataframe tbody tr th {\n",
       "        vertical-align: top;\n",
       "    }\n",
       "\n",
       "    .dataframe thead th {\n",
       "        text-align: right;\n",
       "    }\n",
       "</style>\n",
       "<table border=\"1\" class=\"dataframe\">\n",
       "  <thead>\n",
       "    <tr style=\"text-align: right;\">\n",
       "      <th></th>\n",
       "      <th>Training Loss</th>\n",
       "      <th>Valid. Loss</th>\n",
       "      <th>Valid. Accuracy</th>\n",
       "      <th>Training Time</th>\n",
       "      <th>Validation Time</th>\n",
       "      <th>Best Model</th>\n",
       "    </tr>\n",
       "    <tr>\n",
       "      <th>epoch</th>\n",
       "      <th></th>\n",
       "      <th></th>\n",
       "      <th></th>\n",
       "      <th></th>\n",
       "      <th></th>\n",
       "      <th></th>\n",
       "    </tr>\n",
       "  </thead>\n",
       "  <tbody>\n",
       "    <tr>\n",
       "      <th>1</th>\n",
       "      <td>0.23</td>\n",
       "      <td>0.25</td>\n",
       "      <td>0.91</td>\n",
       "      <td>0:02:10</td>\n",
       "      <td>0:00:12</td>\n",
       "      <td>True</td>\n",
       "    </tr>\n",
       "    <tr>\n",
       "      <th>2</th>\n",
       "      <td>0.17</td>\n",
       "      <td>0.26</td>\n",
       "      <td>0.91</td>\n",
       "      <td>0:02:11</td>\n",
       "      <td>0:00:12</td>\n",
       "      <td>False</td>\n",
       "    </tr>\n",
       "  </tbody>\n",
       "</table>\n",
       "</div>"
      ],
      "text/plain": [
       "       Training Loss  Valid. Loss  ...  Validation Time Best Model\n",
       "epoch                              ...                            \n",
       "1               0.23         0.25  ...          0:00:12       True\n",
       "2               0.17         0.26  ...          0:00:12      False\n",
       "\n",
       "[2 rows x 6 columns]"
      ]
     },
     "execution_count": 24,
     "metadata": {
      "tags": []
     },
     "output_type": "execute_result"
    }
   ],
   "source": [
    "Model.show_training_stats()"
   ]
  },
  {
   "cell_type": "markdown",
   "metadata": {
    "colab_type": "text",
    "id": "pOguZT9Vgawa"
   },
   "source": [
    "#Оценка качества на отложенной выборке"
   ]
  },
  {
   "cell_type": "code",
   "execution_count": null,
   "metadata": {
    "colab": {},
    "colab_type": "code",
    "id": "lSnCghNAgJA6"
   },
   "outputs": [],
   "source": [
    "tokenized_texts = [tokenizer.tokenize(sent) for sent in test_sentences]\n",
    "input_ids = [tokenizer.convert_tokens_to_ids(x) for x in tokenized_texts]\n",
    "\n",
    "input_ids = pad_sequences(\n",
    "    input_ids,\n",
    "    maxlen=maxlen,\n",
    "    dtype=\"long\",\n",
    "    truncating=\"post\",\n",
    "    padding=\"post\"\n",
    ")"
   ]
  },
  {
   "cell_type": "code",
   "execution_count": null,
   "metadata": {
    "colab": {},
    "colab_type": "code",
    "id": "xX4GwIeLggeu"
   },
   "outputs": [],
   "source": [
    "attention_masks = [[float(i>0) for i in seq] for seq in input_ids]\n",
    "\n",
    "prediction_inputs = torch.tensor(input_ids).to(torch.int64)\n",
    "prediction_masks = torch.tensor(attention_masks).to(torch.int64)\n",
    "prediction_labels = torch.tensor(test_gt).to(torch.int64)\n",
    "\n",
    "prediction_data = TensorDataset(\n",
    "    prediction_inputs,\n",
    "    prediction_masks,\n",
    "    prediction_labels\n",
    ")\n",
    "\n",
    "prediction_dataloader = DataLoader(\n",
    "    prediction_data, \n",
    "    sampler=SequentialSampler(prediction_data),\n",
    "    batch_size=64\n",
    ")"
   ]
  },
  {
   "cell_type": "code",
   "execution_count": null,
   "metadata": {
    "colab": {
     "base_uri": "https://localhost:8080/",
     "height": 81,
     "referenced_widgets": [
      "2394a924849e48d2a77cae9bb27e3896",
      "067dc48e4a244f3f8f2a3d6794d04fb7",
      "2624216efab5444e9cef108b4e9898ed",
      "334bf3c664e747e38ec61a05e053dd4b",
      "742cddbf95704a5ea61d7a880ea6a527",
      "de6189d59ed64d8d956bed0c792656b5",
      "ad008b4490544b27954b0c302d4ee999",
      "ec30c9055dbc4351afe961c9c824d6db"
     ]
    },
    "colab_type": "code",
    "id": "LvJCalXzO-tq",
    "outputId": "7a68ab60-5412-4c59-af0d-04a8712d7840"
   },
   "outputs": [
    {
     "data": {
      "application/vnd.jupyter.widget-view+json": {
       "model_id": "2394a924849e48d2a77cae9bb27e3896",
       "version_major": 2,
       "version_minor": 0
      },
      "text/plain": [
       "VBox(children=(HTML(value=''), IntProgress(value=0, max=40)))"
      ]
     },
     "metadata": {
      "tags": []
     },
     "output_type": "display_data"
    }
   ],
   "source": [
    "test_preds, test_labels = Model.predict(prediction_dataloader)"
   ]
  },
  {
   "cell_type": "code",
   "execution_count": null,
   "metadata": {
    "colab": {
     "base_uri": "https://localhost:8080/",
     "height": 102
    },
    "colab_type": "code",
    "id": "e7L7CyacgjFx",
    "outputId": "a7b5c807-c63c-41b8-83b5-7aef62fc0b4d"
   },
   "outputs": [
    {
     "name": "stdout",
     "output_type": "stream",
     "text": [
      "Метрики качества на отложенной выборке\n",
      "Accuracy: 0.9116\n",
      "Precision: 0.8996\n",
      "Recall 0.8966\n",
      "F1 score: 0.8981\n"
     ]
    }
   ],
   "source": [
    "print(\"Metrics on test sample\")\n",
    "\n",
    "print(\"Accuracy: {0:.4f}\".format(\n",
    "    accuracy_score(test_labels, test_preds)\n",
    "))\n",
    "\n",
    "print(\"Precision: {0:.4f}\".format(\n",
    "    precision_score(test_labels, test_preds, average='macro')\n",
    "))\n",
    "\n",
    "print(\"Recall {0:.4f}\".format(\n",
    "    recall_score(test_labels, test_preds, average='macro')\n",
    "))\n",
    "\n",
    "print(\"F1 score: {0:.4f}\".format(\n",
    "    f1_score(test_labels, test_preds, average='macro')\n",
    "))"
   ]
  },
  {
   "cell_type": "code",
   "execution_count": null,
   "metadata": {
    "colab": {
     "base_uri": "https://localhost:8080/",
     "height": 431
    },
    "colab_type": "code",
    "id": "d1qGxObmgmt6",
    "outputId": "16309727-a897-4118-99dc-936aae6abd1a"
   },
   "outputs": [
    {
     "data": {
      "text/plain": [
       "<matplotlib.axes._subplots.AxesSubplot at 0x7f336cb51fd0>"
      ]
     },
     "execution_count": 29,
     "metadata": {
      "tags": []
     },
     "output_type": "execute_result"
    },
    {
     "data": {
      "image/png": "[encoded data removed]",
      "text/plain": [
       "<Figure size 864x432 with 2 Axes>"
      ]
     },
     "metadata": {
      "tags": []
     },
     "output_type": "display_data"
    }
   ],
   "source": [
    "from sklearn.metrics import confusion_matrix\n",
    "import seaborn as sn\n",
    "\n",
    "data = {'y_Actual':    test_labels,\n",
    "        'y_Predicted': test_preds\n",
    "        }\n",
    "\n",
    "df = pd.DataFrame(data, columns=['y_Actual','y_Predicted'])\n",
    "confusion_matrix = pd.crosstab(df['y_Actual'], df['y_Predicted'], rownames=['Actual'], colnames=['Predicted'], margins = True)\n",
    "\n",
    "sn.heatmap(confusion_matrix, annot=True)\n"
   ]
  },
  {
   "cell_type": "code",
   "execution_count": null,
   "metadata": {
    "colab": {},
    "colab_type": "code",
    "id": "yD9Vlt4NnGAi"
   },
   "outputs": [],
   "source": [
    "# torch.save(model, '/content/drive/My Drive/Dataset/model_1.pth')"
   ]
  }
 ],
 "metadata": {
  "accelerator": "GPU",
  "colab": {
   "collapsed_sections": [],
   "name": "Main pipeline.ipynb",
   "provenance": []
  },
  "kernelspec": {
   "display_name": "Python 3",
   "language": "python",
   "name": "python3"
  },
  "language_info": {
   "codemirror_mode": {
    "name": "ipython",
    "version": 3
   },
   "file_extension": ".py",
   "mimetype": "text/x-python",
   "name": "python",
   "nbconvert_exporter": "python",
   "pygments_lexer": "ipython3",
   "version": "3.7.6"
  },
  "widgets": {
   "application/vnd.jupyter.widget-state+json": {
    "0609e14dd94949cdb69d4364c40f4196": {
     "model_module": "@jupyter-widgets/base",
     "model_name": "LayoutModel",
     "state": {
      "_model_module": "@jupyter-widgets/base",
      "_model_module_version": "1.2.0",
      "_model_name": "LayoutModel",
      "_view_count": null,
      "_view_module": "@jupyter-widgets/base",
      "_view_module_version": "1.2.0",
      "_view_name": "LayoutView",
      "align_content": null,
      "align_items": null,
      "align_self": null,
      "border": null,
      "bottom": null,
      "display": null,
      "flex": null,
      "flex_flow": null,
      "grid_area": null,
      "grid_auto_columns": null,
      "grid_auto_flow": null,
      "grid_auto_rows": null,
      "grid_column": null,
      "grid_gap": null,
      "grid_row": null,
      "grid_template_areas": null,
      "grid_template_columns": null,
      "grid_template_rows": null,
      "height": null,
      "justify_content": null,
      "justify_items": null,
      "left": null,
      "margin": null,
      "max_height": null,
      "max_width": null,
      "min_height": null,
      "min_width": null,
      "object_fit": null,
      "object_position": null,
      "order": null,
      "overflow": null,
      "overflow_x": null,
      "overflow_y": null,
      "padding": null,
      "right": null,
      "top": null,
      "visibility": null,
      "width": null
     }
    },
    "067dc48e4a244f3f8f2a3d6794d04fb7": {
     "model_module": "@jupyter-widgets/base",
     "model_name": "LayoutModel",
     "state": {
      "_model_module": "@jupyter-widgets/base",
      "_model_module_version": "1.2.0",
      "_model_name": "LayoutModel",
      "_view_count": null,
      "_view_module": "@jupyter-widgets/base",
      "_view_module_version": "1.2.0",
      "_view_name": "LayoutView",
      "align_content": null,
      "align_items": null,
      "align_self": null,
      "border": null,
      "bottom": null,
      "display": null,
      "flex": null,
      "flex_flow": null,
      "grid_area": null,
      "grid_auto_columns": null,
      "grid_auto_flow": null,
      "grid_auto_rows": null,
      "grid_column": null,
      "grid_gap": null,
      "grid_row": null,
      "grid_template_areas": null,
      "grid_template_columns": null,
      "grid_template_rows": null,
      "height": null,
      "justify_content": null,
      "justify_items": null,
      "left": null,
      "margin": null,
      "max_height": null,
      "max_width": null,
      "min_height": null,
      "min_width": null,
      "object_fit": null,
      "object_position": null,
      "order": null,
      "overflow": null,
      "overflow_x": null,
      "overflow_y": null,
      "padding": null,
      "right": null,
      "top": null,
      "visibility": null,
      "width": null
     }
    },
    "0a5e9be1e78e42b3afa70d0ccb5697eb": {
     "model_module": "@jupyter-widgets/base",
     "model_name": "LayoutModel",
     "state": {
      "_model_module": "@jupyter-widgets/base",
      "_model_module_version": "1.2.0",
      "_model_name": "LayoutModel",
      "_view_count": null,
      "_view_module": "@jupyter-widgets/base",
      "_view_module_version": "1.2.0",
      "_view_name": "LayoutView",
      "align_content": null,
      "align_items": null,
      "align_self": null,
      "border": null,
      "bottom": null,
      "display": null,
      "flex": null,
      "flex_flow": null,
      "grid_area": null,
      "grid_auto_columns": null,
      "grid_auto_flow": null,
      "grid_auto_rows": null,
      "grid_column": null,
      "grid_gap": null,
      "grid_row": null,
      "grid_template_areas": null,
      "grid_template_columns": null,
      "grid_template_rows": null,
      "height": null,
      "justify_content": null,
      "justify_items": null,
      "left": null,
      "margin": null,
      "max_height": null,
      "max_width": null,
      "min_height": null,
      "min_width": null,
      "object_fit": null,
      "object_position": null,
      "order": null,
      "overflow": null,
      "overflow_x": null,
      "overflow_y": null,
      "padding": null,
      "right": null,
      "top": null,
      "visibility": null,
      "width": null
     }
    },
    "0ccf1f9d67c64869a0fb683ca284b6ed": {
     "model_module": "@jupyter-widgets/base",
     "model_name": "LayoutModel",
     "state": {
      "_model_module": "@jupyter-widgets/base",
      "_model_module_version": "1.2.0",
      "_model_name": "LayoutModel",
      "_view_count": null,
      "_view_module": "@jupyter-widgets/base",
      "_view_module_version": "1.2.0",
      "_view_name": "LayoutView",
      "align_content": null,
      "align_items": null,
      "align_self": null,
      "border": null,
      "bottom": null,
      "display": null,
      "flex": null,
      "flex_flow": null,
      "grid_area": null,
      "grid_auto_columns": null,
      "grid_auto_flow": null,
      "grid_auto_rows": null,
      "grid_column": null,
      "grid_gap": null,
      "grid_row": null,
      "grid_template_areas": null,
      "grid_template_columns": null,
      "grid_template_rows": null,
      "height": null,
      "justify_content": null,
      "justify_items": null,
      "left": null,
      "margin": null,
      "max_height": null,
      "max_width": null,
      "min_height": null,
      "min_width": null,
      "object_fit": null,
      "object_position": null,
      "order": null,
      "overflow": null,
      "overflow_x": null,
      "overflow_y": null,
      "padding": null,
      "right": null,
      "top": null,
      "visibility": null,
      "width": null
     }
    },
    "14b141655818450abd8a4c999b169680": {
     "model_module": "@jupyter-widgets/controls",
     "model_name": "ProgressStyleModel",
     "state": {
      "_model_module": "@jupyter-widgets/controls",
      "_model_module_version": "1.5.0",
      "_model_name": "ProgressStyleModel",
      "_view_count": null,
      "_view_module": "@jupyter-widgets/base",
      "_view_module_version": "1.2.0",
      "_view_name": "StyleView",
      "bar_color": null,
      "description_width": ""
     }
    },
    "17e4700383234b5784ab2e7618f552c9": {
     "model_module": "@jupyter-widgets/base",
     "model_name": "LayoutModel",
     "state": {
      "_model_module": "@jupyter-widgets/base",
      "_model_module_version": "1.2.0",
      "_model_name": "LayoutModel",
      "_view_count": null,
      "_view_module": "@jupyter-widgets/base",
      "_view_module_version": "1.2.0",
      "_view_name": "LayoutView",
      "align_content": null,
      "align_items": null,
      "align_self": null,
      "border": null,
      "bottom": null,
      "display": null,
      "flex": null,
      "flex_flow": null,
      "grid_area": null,
      "grid_auto_columns": null,
      "grid_auto_flow": null,
      "grid_auto_rows": null,
      "grid_column": null,
      "grid_gap": null,
      "grid_row": null,
      "grid_template_areas": null,
      "grid_template_columns": null,
      "grid_template_rows": null,
      "height": null,
      "justify_content": null,
      "justify_items": null,
      "left": null,
      "margin": null,
      "max_height": null,
      "max_width": null,
      "min_height": null,
      "min_width": null,
      "object_fit": null,
      "object_position": null,
      "order": null,
      "overflow": null,
      "overflow_x": null,
      "overflow_y": null,
      "padding": null,
      "right": null,
      "top": null,
      "visibility": null,
      "width": null
     }
    },
    "1cc3259d01454c7485881a2b513b4419": {
     "model_module": "@jupyter-widgets/controls",
     "model_name": "VBoxModel",
     "state": {
      "_dom_classes": [],
      "_model_module": "@jupyter-widgets/controls",
      "_model_module_version": "1.5.0",
      "_model_name": "VBoxModel",
      "_view_count": null,
      "_view_module": "@jupyter-widgets/controls",
      "_view_module_version": "1.5.0",
      "_view_name": "VBoxView",
      "box_style": "",
      "children": [
       "IPY_MODEL_247b2eec955343c38b376de03ffbcf34",
       "IPY_MODEL_fb3763a7f10745dfaeb7ca592e4131b9"
      ],
      "layout": "IPY_MODEL_8d4c09abb433429eb5aa3f4e9c6e120a"
     }
    },
    "206e35c6801b48668f5d77faf17f65df": {
     "model_module": "@jupyter-widgets/controls",
     "model_name": "IntProgressModel",
     "state": {
      "_dom_classes": [],
      "_model_module": "@jupyter-widgets/controls",
      "_model_module_version": "1.5.0",
      "_model_name": "IntProgressModel",
      "_view_count": null,
      "_view_module": "@jupyter-widgets/controls",
      "_view_module_version": "1.5.0",
      "_view_name": "ProgressView",
      "bar_style": "success",
      "description": "",
      "description_tooltip": null,
      "layout": "IPY_MODEL_0ccf1f9d67c64869a0fb683ca284b6ed",
      "max": 80,
      "min": 0,
      "orientation": "horizontal",
      "style": "IPY_MODEL_14b141655818450abd8a4c999b169680",
      "value": 80
     }
    },
    "2394a924849e48d2a77cae9bb27e3896": {
     "model_module": "@jupyter-widgets/controls",
     "model_name": "VBoxModel",
     "state": {
      "_dom_classes": [],
      "_model_module": "@jupyter-widgets/controls",
      "_model_module_version": "1.5.0",
      "_model_name": "VBoxModel",
      "_view_count": null,
      "_view_module": "@jupyter-widgets/controls",
      "_view_module_version": "1.5.0",
      "_view_name": "VBoxView",
      "box_style": "",
      "children": [
       "IPY_MODEL_2624216efab5444e9cef108b4e9898ed",
       "IPY_MODEL_334bf3c664e747e38ec61a05e053dd4b"
      ],
      "layout": "IPY_MODEL_067dc48e4a244f3f8f2a3d6794d04fb7"
     }
    },
    "247b2eec955343c38b376de03ffbcf34": {
     "model_module": "@jupyter-widgets/controls",
     "model_name": "HTMLModel",
     "state": {
      "_dom_classes": [],
      "_model_module": "@jupyter-widgets/controls",
      "_model_module_version": "1.5.0",
      "_model_name": "HTMLModel",
      "_view_count": null,
      "_view_module": "@jupyter-widgets/controls",
      "_view_module_version": "1.5.0",
      "_view_name": "HTMLView",
      "description": "",
      "description_tooltip": null,
      "layout": "IPY_MODEL_bbe256283ffa4b2080cb2e3bc63b8f29",
      "placeholder": "​",
      "style": "IPY_MODEL_c700aa415f5c41a28277898602bc420c",
      "value": "Validation in progress...: 20"
     }
    },
    "2624216efab5444e9cef108b4e9898ed": {
     "model_module": "@jupyter-widgets/controls",
     "model_name": "HTMLModel",
     "state": {
      "_dom_classes": [],
      "_model_module": "@jupyter-widgets/controls",
      "_model_module_version": "1.5.0",
      "_model_name": "HTMLModel",
      "_view_count": null,
      "_view_module": "@jupyter-widgets/controls",
      "_view_module_version": "1.5.0",
      "_view_name": "HTMLView",
      "description": "",
      "description_tooltip": null,
      "layout": "IPY_MODEL_de6189d59ed64d8d956bed0c792656b5",
      "placeholder": "​",
      "style": "IPY_MODEL_742cddbf95704a5ea61d7a880ea6a527",
      "value": "Prediction in process...: 40"
     }
    },
    "2e11f74df0724208badd3a4b97812a81": {
     "model_module": "@jupyter-widgets/controls",
     "model_name": "ProgressStyleModel",
     "state": {
      "_model_module": "@jupyter-widgets/controls",
      "_model_module_version": "1.5.0",
      "_model_name": "ProgressStyleModel",
      "_view_count": null,
      "_view_module": "@jupyter-widgets/base",
      "_view_module_version": "1.2.0",
      "_view_name": "StyleView",
      "bar_color": null,
      "description_width": ""
     }
    },
    "334bf3c664e747e38ec61a05e053dd4b": {
     "model_module": "@jupyter-widgets/controls",
     "model_name": "IntProgressModel",
     "state": {
      "_dom_classes": [],
      "_model_module": "@jupyter-widgets/controls",
      "_model_module_version": "1.5.0",
      "_model_name": "IntProgressModel",
      "_view_count": null,
      "_view_module": "@jupyter-widgets/controls",
      "_view_module_version": "1.5.0",
      "_view_name": "ProgressView",
      "bar_style": "success",
      "description": "",
      "description_tooltip": null,
      "layout": "IPY_MODEL_ec30c9055dbc4351afe961c9c824d6db",
      "max": 40,
      "min": 0,
      "orientation": "horizontal",
      "style": "IPY_MODEL_ad008b4490544b27954b0c302d4ee999",
      "value": 40
     }
    },
    "3b622058e0b7408a9feb0a593f0d5c72": {
     "model_module": "@jupyter-widgets/controls",
     "model_name": "HTMLModel",
     "state": {
      "_dom_classes": [],
      "_model_module": "@jupyter-widgets/controls",
      "_model_module_version": "1.5.0",
      "_model_name": "HTMLModel",
      "_view_count": null,
      "_view_module": "@jupyter-widgets/controls",
      "_view_module_version": "1.5.0",
      "_view_name": "HTMLView",
      "description": "",
      "description_tooltip": null,
      "layout": "IPY_MODEL_0609e14dd94949cdb69d4364c40f4196",
      "placeholder": "​",
      "style": "IPY_MODEL_66130c138381483dbda350ecc4bf1283",
      "value": "Epoch 1 in progress...: 80"
     }
    },
    "3e5b59fe9ab74d899d74e5577bbb3865": {
     "model_module": "@jupyter-widgets/controls",
     "model_name": "VBoxModel",
     "state": {
      "_dom_classes": [],
      "_model_module": "@jupyter-widgets/controls",
      "_model_module_version": "1.5.0",
      "_model_name": "VBoxModel",
      "_view_count": null,
      "_view_module": "@jupyter-widgets/controls",
      "_view_module_version": "1.5.0",
      "_view_name": "VBoxView",
      "box_style": "",
      "children": [
       "IPY_MODEL_9bbc806582784fce929fd36180517548",
       "IPY_MODEL_206e35c6801b48668f5d77faf17f65df"
      ],
      "layout": "IPY_MODEL_8a8a4dd647644b69b20a559a66589047"
     }
    },
    "3f392f84de7149f892bd4437a2b68d30": {
     "model_module": "@jupyter-widgets/controls",
     "model_name": "ProgressStyleModel",
     "state": {
      "_model_module": "@jupyter-widgets/controls",
      "_model_module_version": "1.5.0",
      "_model_name": "ProgressStyleModel",
      "_view_count": null,
      "_view_module": "@jupyter-widgets/base",
      "_view_module_version": "1.2.0",
      "_view_name": "StyleView",
      "bar_color": null,
      "description_width": ""
     }
    },
    "57c3e6ecd5894b80ab79c6830496628f": {
     "model_module": "@jupyter-widgets/controls",
     "model_name": "DescriptionStyleModel",
     "state": {
      "_model_module": "@jupyter-widgets/controls",
      "_model_module_version": "1.5.0",
      "_model_name": "DescriptionStyleModel",
      "_view_count": null,
      "_view_module": "@jupyter-widgets/base",
      "_view_module_version": "1.2.0",
      "_view_name": "StyleView",
      "description_width": ""
     }
    },
    "5cfbadad9c8540e29907484b9fbaf7cd": {
     "model_module": "@jupyter-widgets/base",
     "model_name": "LayoutModel",
     "state": {
      "_model_module": "@jupyter-widgets/base",
      "_model_module_version": "1.2.0",
      "_model_name": "LayoutModel",
      "_view_count": null,
      "_view_module": "@jupyter-widgets/base",
      "_view_module_version": "1.2.0",
      "_view_name": "LayoutView",
      "align_content": null,
      "align_items": null,
      "align_self": null,
      "border": null,
      "bottom": null,
      "display": null,
      "flex": null,
      "flex_flow": null,
      "grid_area": null,
      "grid_auto_columns": null,
      "grid_auto_flow": null,
      "grid_auto_rows": null,
      "grid_column": null,
      "grid_gap": null,
      "grid_row": null,
      "grid_template_areas": null,
      "grid_template_columns": null,
      "grid_template_rows": null,
      "height": null,
      "justify_content": null,
      "justify_items": null,
      "left": null,
      "margin": null,
      "max_height": null,
      "max_width": null,
      "min_height": null,
      "min_width": null,
      "object_fit": null,
      "object_position": null,
      "order": null,
      "overflow": null,
      "overflow_x": null,
      "overflow_y": null,
      "padding": null,
      "right": null,
      "top": null,
      "visibility": null,
      "width": null
     }
    },
    "66130c138381483dbda350ecc4bf1283": {
     "model_module": "@jupyter-widgets/controls",
     "model_name": "DescriptionStyleModel",
     "state": {
      "_model_module": "@jupyter-widgets/controls",
      "_model_module_version": "1.5.0",
      "_model_name": "DescriptionStyleModel",
      "_view_count": null,
      "_view_module": "@jupyter-widgets/base",
      "_view_module_version": "1.2.0",
      "_view_name": "StyleView",
      "description_width": ""
     }
    },
    "731dba69ec6c42599ff0ec0cabcdefe1": {
     "model_module": "@jupyter-widgets/controls",
     "model_name": "IntProgressModel",
     "state": {
      "_dom_classes": [],
      "_model_module": "@jupyter-widgets/controls",
      "_model_module_version": "1.5.0",
      "_model_name": "IntProgressModel",
      "_view_count": null,
      "_view_module": "@jupyter-widgets/controls",
      "_view_module_version": "1.5.0",
      "_view_name": "ProgressView",
      "bar_style": "success",
      "description": "",
      "description_tooltip": null,
      "layout": "IPY_MODEL_ff6cdd7a8ec94afb9407e01a26449ba2",
      "max": 80,
      "min": 0,
      "orientation": "horizontal",
      "style": "IPY_MODEL_3f392f84de7149f892bd4437a2b68d30",
      "value": 80
     }
    },
    "742cddbf95704a5ea61d7a880ea6a527": {
     "model_module": "@jupyter-widgets/controls",
     "model_name": "DescriptionStyleModel",
     "state": {
      "_model_module": "@jupyter-widgets/controls",
      "_model_module_version": "1.5.0",
      "_model_name": "DescriptionStyleModel",
      "_view_count": null,
      "_view_module": "@jupyter-widgets/base",
      "_view_module_version": "1.2.0",
      "_view_name": "StyleView",
      "description_width": ""
     }
    },
    "79ceb0ad3196400aa367d5229d50fc0c": {
     "model_module": "@jupyter-widgets/controls",
     "model_name": "VBoxModel",
     "state": {
      "_dom_classes": [],
      "_model_module": "@jupyter-widgets/controls",
      "_model_module_version": "1.5.0",
      "_model_name": "VBoxModel",
      "_view_count": null,
      "_view_module": "@jupyter-widgets/controls",
      "_view_module_version": "1.5.0",
      "_view_name": "VBoxView",
      "box_style": "",
      "children": [
       "IPY_MODEL_3b622058e0b7408a9feb0a593f0d5c72",
       "IPY_MODEL_731dba69ec6c42599ff0ec0cabcdefe1"
      ],
      "layout": "IPY_MODEL_17e4700383234b5784ab2e7618f552c9"
     }
    },
    "848cc141dee64e8190e072c1acd26b33": {
     "model_module": "@jupyter-widgets/base",
     "model_name": "LayoutModel",
     "state": {
      "_model_module": "@jupyter-widgets/base",
      "_model_module_version": "1.2.0",
      "_model_name": "LayoutModel",
      "_view_count": null,
      "_view_module": "@jupyter-widgets/base",
      "_view_module_version": "1.2.0",
      "_view_name": "LayoutView",
      "align_content": null,
      "align_items": null,
      "align_self": null,
      "border": null,
      "bottom": null,
      "display": null,
      "flex": null,
      "flex_flow": null,
      "grid_area": null,
      "grid_auto_columns": null,
      "grid_auto_flow": null,
      "grid_auto_rows": null,
      "grid_column": null,
      "grid_gap": null,
      "grid_row": null,
      "grid_template_areas": null,
      "grid_template_columns": null,
      "grid_template_rows": null,
      "height": null,
      "justify_content": null,
      "justify_items": null,
      "left": null,
      "margin": null,
      "max_height": null,
      "max_width": null,
      "min_height": null,
      "min_width": null,
      "object_fit": null,
      "object_position": null,
      "order": null,
      "overflow": null,
      "overflow_x": null,
      "overflow_y": null,
      "padding": null,
      "right": null,
      "top": null,
      "visibility": null,
      "width": null
     }
    },
    "86aadbdacbdf44688e4d7b097193f9ed": {
     "model_module": "@jupyter-widgets/controls",
     "model_name": "DescriptionStyleModel",
     "state": {
      "_model_module": "@jupyter-widgets/controls",
      "_model_module_version": "1.5.0",
      "_model_name": "DescriptionStyleModel",
      "_view_count": null,
      "_view_module": "@jupyter-widgets/base",
      "_view_module_version": "1.2.0",
      "_view_name": "StyleView",
      "description_width": ""
     }
    },
    "8a8a4dd647644b69b20a559a66589047": {
     "model_module": "@jupyter-widgets/base",
     "model_name": "LayoutModel",
     "state": {
      "_model_module": "@jupyter-widgets/base",
      "_model_module_version": "1.2.0",
      "_model_name": "LayoutModel",
      "_view_count": null,
      "_view_module": "@jupyter-widgets/base",
      "_view_module_version": "1.2.0",
      "_view_name": "LayoutView",
      "align_content": null,
      "align_items": null,
      "align_self": null,
      "border": null,
      "bottom": null,
      "display": null,
      "flex": null,
      "flex_flow": null,
      "grid_area": null,
      "grid_auto_columns": null,
      "grid_auto_flow": null,
      "grid_auto_rows": null,
      "grid_column": null,
      "grid_gap": null,
      "grid_row": null,
      "grid_template_areas": null,
      "grid_template_columns": null,
      "grid_template_rows": null,
      "height": null,
      "justify_content": null,
      "justify_items": null,
      "left": null,
      "margin": null,
      "max_height": null,
      "max_width": null,
      "min_height": null,
      "min_width": null,
      "object_fit": null,
      "object_position": null,
      "order": null,
      "overflow": null,
      "overflow_x": null,
      "overflow_y": null,
      "padding": null,
      "right": null,
      "top": null,
      "visibility": null,
      "width": null
     }
    },
    "8d4c09abb433429eb5aa3f4e9c6e120a": {
     "model_module": "@jupyter-widgets/base",
     "model_name": "LayoutModel",
     "state": {
      "_model_module": "@jupyter-widgets/base",
      "_model_module_version": "1.2.0",
      "_model_name": "LayoutModel",
      "_view_count": null,
      "_view_module": "@jupyter-widgets/base",
      "_view_module_version": "1.2.0",
      "_view_name": "LayoutView",
      "align_content": null,
      "align_items": null,
      "align_self": null,
      "border": null,
      "bottom": null,
      "display": null,
      "flex": null,
      "flex_flow": null,
      "grid_area": null,
      "grid_auto_columns": null,
      "grid_auto_flow": null,
      "grid_auto_rows": null,
      "grid_column": null,
      "grid_gap": null,
      "grid_row": null,
      "grid_template_areas": null,
      "grid_template_columns": null,
      "grid_template_rows": null,
      "height": null,
      "justify_content": null,
      "justify_items": null,
      "left": null,
      "margin": null,
      "max_height": null,
      "max_width": null,
      "min_height": null,
      "min_width": null,
      "object_fit": null,
      "object_position": null,
      "order": null,
      "overflow": null,
      "overflow_x": null,
      "overflow_y": null,
      "padding": null,
      "right": null,
      "top": null,
      "visibility": null,
      "width": null
     }
    },
    "94b30da7d91c4caca19fd7f5895a0dfb": {
     "model_module": "@jupyter-widgets/controls",
     "model_name": "VBoxModel",
     "state": {
      "_dom_classes": [],
      "_model_module": "@jupyter-widgets/controls",
      "_model_module_version": "1.5.0",
      "_model_name": "VBoxModel",
      "_view_count": null,
      "_view_module": "@jupyter-widgets/controls",
      "_view_module_version": "1.5.0",
      "_view_name": "VBoxView",
      "box_style": "",
      "children": [
       "IPY_MODEL_98f3bf58600e423d9723aa5fa6952602",
       "IPY_MODEL_e11f1644ccaa4db3a9cd586d33f804b5"
      ],
      "layout": "IPY_MODEL_ad8b3eea8cd3458ab2fa512927386cc6"
     }
    },
    "98f3bf58600e423d9723aa5fa6952602": {
     "model_module": "@jupyter-widgets/controls",
     "model_name": "HTMLModel",
     "state": {
      "_dom_classes": [],
      "_model_module": "@jupyter-widgets/controls",
      "_model_module_version": "1.5.0",
      "_model_name": "HTMLModel",
      "_view_count": null,
      "_view_module": "@jupyter-widgets/controls",
      "_view_module_version": "1.5.0",
      "_view_name": "HTMLView",
      "description": "",
      "description_tooltip": null,
      "layout": "IPY_MODEL_5cfbadad9c8540e29907484b9fbaf7cd",
      "placeholder": "​",
      "style": "IPY_MODEL_57c3e6ecd5894b80ab79c6830496628f",
      "value": "Validation in progress...: 20"
     }
    },
    "9bbc806582784fce929fd36180517548": {
     "model_module": "@jupyter-widgets/controls",
     "model_name": "HTMLModel",
     "state": {
      "_dom_classes": [],
      "_model_module": "@jupyter-widgets/controls",
      "_model_module_version": "1.5.0",
      "_model_name": "HTMLModel",
      "_view_count": null,
      "_view_module": "@jupyter-widgets/controls",
      "_view_module_version": "1.5.0",
      "_view_name": "HTMLView",
      "description": "",
      "description_tooltip": null,
      "layout": "IPY_MODEL_848cc141dee64e8190e072c1acd26b33",
      "placeholder": "​",
      "style": "IPY_MODEL_86aadbdacbdf44688e4d7b097193f9ed",
      "value": "Epoch 2 in progress...: 80"
     }
    },
    "ad008b4490544b27954b0c302d4ee999": {
     "model_module": "@jupyter-widgets/controls",
     "model_name": "ProgressStyleModel",
     "state": {
      "_model_module": "@jupyter-widgets/controls",
      "_model_module_version": "1.5.0",
      "_model_name": "ProgressStyleModel",
      "_view_count": null,
      "_view_module": "@jupyter-widgets/base",
      "_view_module_version": "1.2.0",
      "_view_name": "StyleView",
      "bar_color": null,
      "description_width": ""
     }
    },
    "ad8b3eea8cd3458ab2fa512927386cc6": {
     "model_module": "@jupyter-widgets/base",
     "model_name": "LayoutModel",
     "state": {
      "_model_module": "@jupyter-widgets/base",
      "_model_module_version": "1.2.0",
      "_model_name": "LayoutModel",
      "_view_count": null,
      "_view_module": "@jupyter-widgets/base",
      "_view_module_version": "1.2.0",
      "_view_name": "LayoutView",
      "align_content": null,
      "align_items": null,
      "align_self": null,
      "border": null,
      "bottom": null,
      "display": null,
      "flex": null,
      "flex_flow": null,
      "grid_area": null,
      "grid_auto_columns": null,
      "grid_auto_flow": null,
      "grid_auto_rows": null,
      "grid_column": null,
      "grid_gap": null,
      "grid_row": null,
      "grid_template_areas": null,
      "grid_template_columns": null,
      "grid_template_rows": null,
      "height": null,
      "justify_content": null,
      "justify_items": null,
      "left": null,
      "margin": null,
      "max_height": null,
      "max_width": null,
      "min_height": null,
      "min_width": null,
      "object_fit": null,
      "object_position": null,
      "order": null,
      "overflow": null,
      "overflow_x": null,
      "overflow_y": null,
      "padding": null,
      "right": null,
      "top": null,
      "visibility": null,
      "width": null
     }
    },
    "bbe256283ffa4b2080cb2e3bc63b8f29": {
     "model_module": "@jupyter-widgets/base",
     "model_name": "LayoutModel",
     "state": {
      "_model_module": "@jupyter-widgets/base",
      "_model_module_version": "1.2.0",
      "_model_name": "LayoutModel",
      "_view_count": null,
      "_view_module": "@jupyter-widgets/base",
      "_view_module_version": "1.2.0",
      "_view_name": "LayoutView",
      "align_content": null,
      "align_items": null,
      "align_self": null,
      "border": null,
      "bottom": null,
      "display": null,
      "flex": null,
      "flex_flow": null,
      "grid_area": null,
      "grid_auto_columns": null,
      "grid_auto_flow": null,
      "grid_auto_rows": null,
      "grid_column": null,
      "grid_gap": null,
      "grid_row": null,
      "grid_template_areas": null,
      "grid_template_columns": null,
      "grid_template_rows": null,
      "height": null,
      "justify_content": null,
      "justify_items": null,
      "left": null,
      "margin": null,
      "max_height": null,
      "max_width": null,
      "min_height": null,
      "min_width": null,
      "object_fit": null,
      "object_position": null,
      "order": null,
      "overflow": null,
      "overflow_x": null,
      "overflow_y": null,
      "padding": null,
      "right": null,
      "top": null,
      "visibility": null,
      "width": null
     }
    },
    "c700aa415f5c41a28277898602bc420c": {
     "model_module": "@jupyter-widgets/controls",
     "model_name": "DescriptionStyleModel",
     "state": {
      "_model_module": "@jupyter-widgets/controls",
      "_model_module_version": "1.5.0",
      "_model_name": "DescriptionStyleModel",
      "_view_count": null,
      "_view_module": "@jupyter-widgets/base",
      "_view_module_version": "1.2.0",
      "_view_name": "StyleView",
      "description_width": ""
     }
    },
    "dc66ec724a5f4eef97dc0e6bac369828": {
     "model_module": "@jupyter-widgets/controls",
     "model_name": "ProgressStyleModel",
     "state": {
      "_model_module": "@jupyter-widgets/controls",
      "_model_module_version": "1.5.0",
      "_model_name": "ProgressStyleModel",
      "_view_count": null,
      "_view_module": "@jupyter-widgets/base",
      "_view_module_version": "1.2.0",
      "_view_name": "StyleView",
      "bar_color": null,
      "description_width": ""
     }
    },
    "dde9c860ad5846afa31c17b46d3ecda8": {
     "model_module": "@jupyter-widgets/base",
     "model_name": "LayoutModel",
     "state": {
      "_model_module": "@jupyter-widgets/base",
      "_model_module_version": "1.2.0",
      "_model_name": "LayoutModel",
      "_view_count": null,
      "_view_module": "@jupyter-widgets/base",
      "_view_module_version": "1.2.0",
      "_view_name": "LayoutView",
      "align_content": null,
      "align_items": null,
      "align_self": null,
      "border": null,
      "bottom": null,
      "display": null,
      "flex": null,
      "flex_flow": null,
      "grid_area": null,
      "grid_auto_columns": null,
      "grid_auto_flow": null,
      "grid_auto_rows": null,
      "grid_column": null,
      "grid_gap": null,
      "grid_row": null,
      "grid_template_areas": null,
      "grid_template_columns": null,
      "grid_template_rows": null,
      "height": null,
      "justify_content": null,
      "justify_items": null,
      "left": null,
      "margin": null,
      "max_height": null,
      "max_width": null,
      "min_height": null,
      "min_width": null,
      "object_fit": null,
      "object_position": null,
      "order": null,
      "overflow": null,
      "overflow_x": null,
      "overflow_y": null,
      "padding": null,
      "right": null,
      "top": null,
      "visibility": null,
      "width": null
     }
    },
    "de6189d59ed64d8d956bed0c792656b5": {
     "model_module": "@jupyter-widgets/base",
     "model_name": "LayoutModel",
     "state": {
      "_model_module": "@jupyter-widgets/base",
      "_model_module_version": "1.2.0",
      "_model_name": "LayoutModel",
      "_view_count": null,
      "_view_module": "@jupyter-widgets/base",
      "_view_module_version": "1.2.0",
      "_view_name": "LayoutView",
      "align_content": null,
      "align_items": null,
      "align_self": null,
      "border": null,
      "bottom": null,
      "display": null,
      "flex": null,
      "flex_flow": null,
      "grid_area": null,
      "grid_auto_columns": null,
      "grid_auto_flow": null,
      "grid_auto_rows": null,
      "grid_column": null,
      "grid_gap": null,
      "grid_row": null,
      "grid_template_areas": null,
      "grid_template_columns": null,
      "grid_template_rows": null,
      "height": null,
      "justify_content": null,
      "justify_items": null,
      "left": null,
      "margin": null,
      "max_height": null,
      "max_width": null,
      "min_height": null,
      "min_width": null,
      "object_fit": null,
      "object_position": null,
      "order": null,
      "overflow": null,
      "overflow_x": null,
      "overflow_y": null,
      "padding": null,
      "right": null,
      "top": null,
      "visibility": null,
      "width": null
     }
    },
    "e11f1644ccaa4db3a9cd586d33f804b5": {
     "model_module": "@jupyter-widgets/controls",
     "model_name": "IntProgressModel",
     "state": {
      "_dom_classes": [],
      "_model_module": "@jupyter-widgets/controls",
      "_model_module_version": "1.5.0",
      "_model_name": "IntProgressModel",
      "_view_count": null,
      "_view_module": "@jupyter-widgets/controls",
      "_view_module_version": "1.5.0",
      "_view_name": "ProgressView",
      "bar_style": "success",
      "description": "",
      "description_tooltip": null,
      "layout": "IPY_MODEL_dde9c860ad5846afa31c17b46d3ecda8",
      "max": 20,
      "min": 0,
      "orientation": "horizontal",
      "style": "IPY_MODEL_2e11f74df0724208badd3a4b97812a81",
      "value": 20
     }
    },
    "ec30c9055dbc4351afe961c9c824d6db": {
     "model_module": "@jupyter-widgets/base",
     "model_name": "LayoutModel",
     "state": {
      "_model_module": "@jupyter-widgets/base",
      "_model_module_version": "1.2.0",
      "_model_name": "LayoutModel",
      "_view_count": null,
      "_view_module": "@jupyter-widgets/base",
      "_view_module_version": "1.2.0",
      "_view_name": "LayoutView",
      "align_content": null,
      "align_items": null,
      "align_self": null,
      "border": null,
      "bottom": null,
      "display": null,
      "flex": null,
      "flex_flow": null,
      "grid_area": null,
      "grid_auto_columns": null,
      "grid_auto_flow": null,
      "grid_auto_rows": null,
      "grid_column": null,
      "grid_gap": null,
      "grid_row": null,
      "grid_template_areas": null,
      "grid_template_columns": null,
      "grid_template_rows": null,
      "height": null,
      "justify_content": null,
      "justify_items": null,
      "left": null,
      "margin": null,
      "max_height": null,
      "max_width": null,
      "min_height": null,
      "min_width": null,
      "object_fit": null,
      "object_position": null,
      "order": null,
      "overflow": null,
      "overflow_x": null,
      "overflow_y": null,
      "padding": null,
      "right": null,
      "top": null,
      "visibility": null,
      "width": null
     }
    },
    "fb3763a7f10745dfaeb7ca592e4131b9": {
     "model_module": "@jupyter-widgets/controls",
     "model_name": "IntProgressModel",
     "state": {
      "_dom_classes": [],
      "_model_module": "@jupyter-widgets/controls",
      "_model_module_version": "1.5.0",
      "_model_name": "IntProgressModel",
      "_view_count": null,
      "_view_module": "@jupyter-widgets/controls",
      "_view_module_version": "1.5.0",
      "_view_name": "ProgressView",
      "bar_style": "success",
      "description": "",
      "description_tooltip": null,
      "layout": "IPY_MODEL_0a5e9be1e78e42b3afa70d0ccb5697eb",
      "max": 20,
      "min": 0,
      "orientation": "horizontal",
      "style": "IPY_MODEL_dc66ec724a5f4eef97dc0e6bac369828",
      "value": 20
     }
    },
    "ff6cdd7a8ec94afb9407e01a26449ba2": {
     "model_module": "@jupyter-widgets/base",
     "model_name": "LayoutModel",
     "state": {
      "_model_module": "@jupyter-widgets/base",
      "_model_module_version": "1.2.0",
      "_model_name": "LayoutModel",
      "_view_count": null,
      "_view_module": "@jupyter-widgets/base",
      "_view_module_version": "1.2.0",
      "_view_name": "LayoutView",
      "align_content": null,
      "align_items": null,
      "align_self": null,
      "border": null,
      "bottom": null,
      "display": null,
      "flex": null,
      "flex_flow": null,
      "grid_area": null,
      "grid_auto_columns": null,
      "grid_auto_flow": null,
      "grid_auto_rows": null,
      "grid_column": null,
      "grid_gap": null,
      "grid_row": null,
      "grid_template_areas": null,
      "grid_template_columns": null,
      "grid_template_rows": null,
      "height": null,
      "justify_content": null,
      "justify_items": null,
      "left": null,
      "margin": null,
      "max_height": null,
      "max_width": null,
      "min_height": null,
      "min_width": null,
      "object_fit": null,
      "object_position": null,
      "order": null,
      "overflow": null,
      "overflow_x": null,
      "overflow_y": null,
      "padding": null,
      "right": null,
      "top": null,
      "visibility": null,
      "width": null
     }
    }
   }
  }
 },
 "nbformat": 4,
 "nbformat_minor": 1
}
